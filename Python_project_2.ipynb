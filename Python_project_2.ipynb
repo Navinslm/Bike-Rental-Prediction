{
 "cells": [
  {
   "cell_type": "code",
   "execution_count": 1,
   "metadata": {},
   "outputs": [
    {
     "name": "stderr",
     "output_type": "stream",
     "text": [
      "Using TensorFlow backend.\n"
     ]
    }
   ],
   "source": [
    "# Load libraries\n",
    "import os\n",
    "import pandas as pd\n",
    "import numpy as np\n",
    "from fancyimpute import KNN   \n",
    "import matplotlib.pyplot as plt\n",
    "from scipy.stats import chi2_contingency\n",
    "import seaborn as sns\n",
    "from random import randrange, uniform\n",
    "from sklearn.model_selection import train_test_split\n",
    "from sklearn import metrics\n",
    "from sklearn.metrics import roc_auc_score\n",
    "from sklearn.metrics import accuracy_score"
   ]
  },
  {
   "cell_type": "code",
   "execution_count": 2,
   "metadata": {},
   "outputs": [],
   "source": [
    "# Set working directory\n",
    "os.chdir(\"C:/Users/Navin Kumar/Desktop/DS/Project 2/\")"
   ]
  },
  {
   "cell_type": "code",
   "execution_count": 3,
   "metadata": {},
   "outputs": [],
   "source": [
    "# import the csv file\n",
    "df = pd.read_csv(\"C:/Users/Navin Kumar/Desktop/DS/Project 2/day.csv\")"
   ]
  },
  {
   "cell_type": "code",
   "execution_count": 4,
   "metadata": {},
   "outputs": [
    {
     "data": {
      "text/plain": [
       "(731, 16)"
      ]
     },
     "execution_count": 4,
     "metadata": {},
     "output_type": "execute_result"
    }
   ],
   "source": [
    "# Shape of dataset\n",
    "df.shape"
   ]
  },
  {
   "cell_type": "code",
   "execution_count": 5,
   "metadata": {},
   "outputs": [
    {
     "data": {
      "text/html": [
       "<div>\n",
       "<style scoped>\n",
       "    .dataframe tbody tr th:only-of-type {\n",
       "        vertical-align: middle;\n",
       "    }\n",
       "\n",
       "    .dataframe tbody tr th {\n",
       "        vertical-align: top;\n",
       "    }\n",
       "\n",
       "    .dataframe thead th {\n",
       "        text-align: right;\n",
       "    }\n",
       "</style>\n",
       "<table border=\"1\" class=\"dataframe\">\n",
       "  <thead>\n",
       "    <tr style=\"text-align: right;\">\n",
       "      <th></th>\n",
       "      <th>instant</th>\n",
       "      <th>dteday</th>\n",
       "      <th>season</th>\n",
       "      <th>yr</th>\n",
       "      <th>mnth</th>\n",
       "      <th>holiday</th>\n",
       "      <th>weekday</th>\n",
       "      <th>workingday</th>\n",
       "      <th>weathersit</th>\n",
       "      <th>temp</th>\n",
       "      <th>atemp</th>\n",
       "      <th>hum</th>\n",
       "      <th>windspeed</th>\n",
       "      <th>casual</th>\n",
       "      <th>registered</th>\n",
       "      <th>cnt</th>\n",
       "    </tr>\n",
       "  </thead>\n",
       "  <tbody>\n",
       "    <tr>\n",
       "      <th>0</th>\n",
       "      <td>1</td>\n",
       "      <td>2011-01-01</td>\n",
       "      <td>1</td>\n",
       "      <td>0</td>\n",
       "      <td>1</td>\n",
       "      <td>0</td>\n",
       "      <td>6</td>\n",
       "      <td>0</td>\n",
       "      <td>2</td>\n",
       "      <td>0.344167</td>\n",
       "      <td>0.363625</td>\n",
       "      <td>0.805833</td>\n",
       "      <td>0.160446</td>\n",
       "      <td>331</td>\n",
       "      <td>654</td>\n",
       "      <td>985</td>\n",
       "    </tr>\n",
       "    <tr>\n",
       "      <th>1</th>\n",
       "      <td>2</td>\n",
       "      <td>2011-01-02</td>\n",
       "      <td>1</td>\n",
       "      <td>0</td>\n",
       "      <td>1</td>\n",
       "      <td>0</td>\n",
       "      <td>0</td>\n",
       "      <td>0</td>\n",
       "      <td>2</td>\n",
       "      <td>0.363478</td>\n",
       "      <td>0.353739</td>\n",
       "      <td>0.696087</td>\n",
       "      <td>0.248539</td>\n",
       "      <td>131</td>\n",
       "      <td>670</td>\n",
       "      <td>801</td>\n",
       "    </tr>\n",
       "    <tr>\n",
       "      <th>2</th>\n",
       "      <td>3</td>\n",
       "      <td>2011-01-03</td>\n",
       "      <td>1</td>\n",
       "      <td>0</td>\n",
       "      <td>1</td>\n",
       "      <td>0</td>\n",
       "      <td>1</td>\n",
       "      <td>1</td>\n",
       "      <td>1</td>\n",
       "      <td>0.196364</td>\n",
       "      <td>0.189405</td>\n",
       "      <td>0.437273</td>\n",
       "      <td>0.248309</td>\n",
       "      <td>120</td>\n",
       "      <td>1229</td>\n",
       "      <td>1349</td>\n",
       "    </tr>\n",
       "    <tr>\n",
       "      <th>3</th>\n",
       "      <td>4</td>\n",
       "      <td>2011-01-04</td>\n",
       "      <td>1</td>\n",
       "      <td>0</td>\n",
       "      <td>1</td>\n",
       "      <td>0</td>\n",
       "      <td>2</td>\n",
       "      <td>1</td>\n",
       "      <td>1</td>\n",
       "      <td>0.200000</td>\n",
       "      <td>0.212122</td>\n",
       "      <td>0.590435</td>\n",
       "      <td>0.160296</td>\n",
       "      <td>108</td>\n",
       "      <td>1454</td>\n",
       "      <td>1562</td>\n",
       "    </tr>\n",
       "    <tr>\n",
       "      <th>4</th>\n",
       "      <td>5</td>\n",
       "      <td>2011-01-05</td>\n",
       "      <td>1</td>\n",
       "      <td>0</td>\n",
       "      <td>1</td>\n",
       "      <td>0</td>\n",
       "      <td>3</td>\n",
       "      <td>1</td>\n",
       "      <td>1</td>\n",
       "      <td>0.226957</td>\n",
       "      <td>0.229270</td>\n",
       "      <td>0.436957</td>\n",
       "      <td>0.186900</td>\n",
       "      <td>82</td>\n",
       "      <td>1518</td>\n",
       "      <td>1600</td>\n",
       "    </tr>\n",
       "  </tbody>\n",
       "</table>\n",
       "</div>"
      ],
      "text/plain": [
       "   instant      dteday  season  yr  mnth  holiday  weekday  workingday  \\\n",
       "0        1  2011-01-01       1   0     1        0        6           0   \n",
       "1        2  2011-01-02       1   0     1        0        0           0   \n",
       "2        3  2011-01-03       1   0     1        0        1           1   \n",
       "3        4  2011-01-04       1   0     1        0        2           1   \n",
       "4        5  2011-01-05       1   0     1        0        3           1   \n",
       "\n",
       "   weathersit      temp     atemp       hum  windspeed  casual  registered  \\\n",
       "0           2  0.344167  0.363625  0.805833   0.160446     331         654   \n",
       "1           2  0.363478  0.353739  0.696087   0.248539     131         670   \n",
       "2           1  0.196364  0.189405  0.437273   0.248309     120        1229   \n",
       "3           1  0.200000  0.212122  0.590435   0.160296     108        1454   \n",
       "4           1  0.226957  0.229270  0.436957   0.186900      82        1518   \n",
       "\n",
       "    cnt  \n",
       "0   985  \n",
       "1   801  \n",
       "2  1349  \n",
       "3  1562  \n",
       "4  1600  "
      ]
     },
     "execution_count": 5,
     "metadata": {},
     "output_type": "execute_result"
    }
   ],
   "source": [
    "df.head()"
   ]
  },
  {
   "cell_type": "markdown",
   "metadata": {},
   "source": [
    "# Exploratry Data Analysis"
   ]
  },
  {
   "cell_type": "code",
   "execution_count": 6,
   "metadata": {},
   "outputs": [
    {
     "data": {
      "text/plain": [
       "instant         int64\n",
       "dteday         object\n",
       "season          int64\n",
       "yr              int64\n",
       "mnth            int64\n",
       "holiday         int64\n",
       "weekday         int64\n",
       "workingday      int64\n",
       "weathersit      int64\n",
       "temp          float64\n",
       "atemp         float64\n",
       "hum           float64\n",
       "windspeed     float64\n",
       "casual          int64\n",
       "registered      int64\n",
       "cnt             int64\n",
       "dtype: object"
      ]
     },
     "execution_count": 6,
     "metadata": {},
     "output_type": "execute_result"
    }
   ],
   "source": [
    "# Data types\n",
    "df.dtypes"
   ]
  },
  {
   "cell_type": "code",
   "execution_count": 7,
   "metadata": {},
   "outputs": [],
   "source": [
    "# Converting categorical variables to required data format \n",
    "df['dteday'] = pd.to_datetime(df['dteday'])\n",
    "df['season'] = df['season'].astype('category')\n",
    "df['yr'] = df['yr'].astype('category')\n",
    "df['mnth'] = df['mnth'].astype('category')\n",
    "df['holiday'] = df['holiday'].astype('category')\n",
    "df['weekday'] = df['weekday'].astype('category')\n",
    "df['workingday'] = df['workingday'].astype('category')\n",
    "df['weathersit'] = df['weathersit'].astype('category')"
   ]
  },
  {
   "cell_type": "code",
   "execution_count": 8,
   "metadata": {},
   "outputs": [
    {
     "data": {
      "text/plain": [
       "instant                int64\n",
       "dteday        datetime64[ns]\n",
       "season              category\n",
       "yr                  category\n",
       "mnth                category\n",
       "holiday             category\n",
       "weekday             category\n",
       "workingday          category\n",
       "weathersit          category\n",
       "temp                 float64\n",
       "atemp                float64\n",
       "hum                  float64\n",
       "windspeed            float64\n",
       "casual                 int64\n",
       "registered             int64\n",
       "cnt                    int64\n",
       "dtype: object"
      ]
     },
     "execution_count": 8,
     "metadata": {},
     "output_type": "execute_result"
    }
   ],
   "source": [
    "df.dtypes"
   ]
  },
  {
   "cell_type": "markdown",
   "metadata": {},
   "source": [
    "### Distribution of continuous variables"
   ]
  },
  {
   "cell_type": "code",
   "execution_count": 9,
   "metadata": {},
   "outputs": [
    {
     "data": {
      "image/png": "[encoded data removed]",
      "text/plain": [
       "<Figure size 432x288 with 1 Axes>"
      ]
     },
     "metadata": {
      "needs_background": "light"
     },
     "output_type": "display_data"
    }
   ],
   "source": [
    "# Normality check of 'temp' variable\n",
    "sns.distplot(df['temp']);"
   ]
  },
  {
   "cell_type": "code",
   "execution_count": 10,
   "metadata": {},
   "outputs": [
    {
     "data": {
      "image/png": "[encoded data removed]",
      "text/plain": [
       "<Figure size 432x288 with 1 Axes>"
      ]
     },
     "metadata": {
      "needs_background": "light"
     },
     "output_type": "display_data"
    }
   ],
   "source": [
    "# Normality check of 'atemp' variable\n",
    "sns.distplot(df['atemp']);"
   ]
  },
  {
   "cell_type": "code",
   "execution_count": 11,
   "metadata": {},
   "outputs": [
    {
     "data": {
      "image/png": "[encoded data removed]",
      "text/plain": [
       "<Figure size 432x288 with 1 Axes>"
      ]
     },
     "metadata": {
      "needs_background": "light"
     },
     "output_type": "display_data"
    }
   ],
   "source": [
    "# Normality check of 'hum' variable\n",
    "sns.distplot(df['hum']);"
   ]
  },
  {
   "cell_type": "code",
   "execution_count": 12,
   "metadata": {},
   "outputs": [
    {
     "data": {
      "image/png": "[encoded data removed]",
      "text/plain": [
       "<Figure size 432x288 with 1 Axes>"
      ]
     },
     "metadata": {
      "needs_background": "light"
     },
     "output_type": "display_data"
    }
   ],
   "source": [
    "#Normality check of 'windspeed' variable\n",
    "sns.distplot(df['windspeed']);"
   ]
  },
  {
   "cell_type": "code",
   "execution_count": 13,
   "metadata": {},
   "outputs": [
    {
     "data": {
      "image/png": "[encoded data removed]",
      "text/plain": [
       "<Figure size 432x288 with 1 Axes>"
      ]
     },
     "metadata": {
      "needs_background": "light"
     },
     "output_type": "display_data"
    }
   ],
   "source": [
    "#Normality check of 'casual' variable\n",
    "sns.distplot(df['casual']);"
   ]
  },
  {
   "cell_type": "code",
   "execution_count": 14,
   "metadata": {},
   "outputs": [
    {
     "data": {
      "image/png": "[encoded data removed]",
      "text/plain": [
       "<Figure size 432x288 with 1 Axes>"
      ]
     },
     "metadata": {
      "needs_background": "light"
     },
     "output_type": "display_data"
    }
   ],
   "source": [
    "#Normality check of 'registered' variable\n",
    "sns.distplot(df['registered']);"
   ]
  },
  {
   "cell_type": "code",
   "execution_count": 15,
   "metadata": {},
   "outputs": [
    {
     "data": {
      "image/png": "[encoded data removed]",
      "text/plain": [
       "<Figure size 432x288 with 1 Axes>"
      ]
     },
     "metadata": {
      "needs_background": "light"
     },
     "output_type": "display_data"
    }
   ],
   "source": [
    "#Normality check of 'cnt' variable\n",
    "sns.distplot(df['cnt']);"
   ]
  },
  {
   "cell_type": "markdown",
   "metadata": {},
   "source": [
    "# Missing Value Analysis"
   ]
  },
  {
   "cell_type": "code",
   "execution_count": 16,
   "metadata": {},
   "outputs": [],
   "source": [
    "#Create dataframe with missing values in dataset\n",
    "missing_val = pd.DataFrame(df.isnull().sum())"
   ]
  },
  {
   "cell_type": "code",
   "execution_count": 17,
   "metadata": {},
   "outputs": [
    {
     "data": {
      "text/html": [
       "<div>\n",
       "<style scoped>\n",
       "    .dataframe tbody tr th:only-of-type {\n",
       "        vertical-align: middle;\n",
       "    }\n",
       "\n",
       "    .dataframe tbody tr th {\n",
       "        vertical-align: top;\n",
       "    }\n",
       "\n",
       "    .dataframe thead th {\n",
       "        text-align: right;\n",
       "    }\n",
       "</style>\n",
       "<table border=\"1\" class=\"dataframe\">\n",
       "  <thead>\n",
       "    <tr style=\"text-align: right;\">\n",
       "      <th></th>\n",
       "      <th>0</th>\n",
       "    </tr>\n",
       "  </thead>\n",
       "  <tbody>\n",
       "    <tr>\n",
       "      <th>instant</th>\n",
       "      <td>0</td>\n",
       "    </tr>\n",
       "    <tr>\n",
       "      <th>dteday</th>\n",
       "      <td>0</td>\n",
       "    </tr>\n",
       "    <tr>\n",
       "      <th>season</th>\n",
       "      <td>0</td>\n",
       "    </tr>\n",
       "    <tr>\n",
       "      <th>yr</th>\n",
       "      <td>0</td>\n",
       "    </tr>\n",
       "    <tr>\n",
       "      <th>mnth</th>\n",
       "      <td>0</td>\n",
       "    </tr>\n",
       "    <tr>\n",
       "      <th>holiday</th>\n",
       "      <td>0</td>\n",
       "    </tr>\n",
       "    <tr>\n",
       "      <th>weekday</th>\n",
       "      <td>0</td>\n",
       "    </tr>\n",
       "    <tr>\n",
       "      <th>workingday</th>\n",
       "      <td>0</td>\n",
       "    </tr>\n",
       "    <tr>\n",
       "      <th>weathersit</th>\n",
       "      <td>0</td>\n",
       "    </tr>\n",
       "    <tr>\n",
       "      <th>temp</th>\n",
       "      <td>0</td>\n",
       "    </tr>\n",
       "    <tr>\n",
       "      <th>atemp</th>\n",
       "      <td>0</td>\n",
       "    </tr>\n",
       "    <tr>\n",
       "      <th>hum</th>\n",
       "      <td>0</td>\n",
       "    </tr>\n",
       "    <tr>\n",
       "      <th>windspeed</th>\n",
       "      <td>0</td>\n",
       "    </tr>\n",
       "    <tr>\n",
       "      <th>casual</th>\n",
       "      <td>0</td>\n",
       "    </tr>\n",
       "    <tr>\n",
       "      <th>registered</th>\n",
       "      <td>0</td>\n",
       "    </tr>\n",
       "    <tr>\n",
       "      <th>cnt</th>\n",
       "      <td>0</td>\n",
       "    </tr>\n",
       "  </tbody>\n",
       "</table>\n",
       "</div>"
      ],
      "text/plain": [
       "            0\n",
       "instant     0\n",
       "dteday      0\n",
       "season      0\n",
       "yr          0\n",
       "mnth        0\n",
       "holiday     0\n",
       "weekday     0\n",
       "workingday  0\n",
       "weathersit  0\n",
       "temp        0\n",
       "atemp       0\n",
       "hum         0\n",
       "windspeed   0\n",
       "casual      0\n",
       "registered  0\n",
       "cnt         0"
      ]
     },
     "execution_count": 17,
     "metadata": {},
     "output_type": "execute_result"
    }
   ],
   "source": [
    "missing_val"
   ]
  },
  {
   "cell_type": "markdown",
   "metadata": {},
   "source": [
    "# Outlier Analysis"
   ]
  },
  {
   "cell_type": "code",
   "execution_count": 18,
   "metadata": {},
   "outputs": [
    {
     "data": {
      "text/html": [
       "<div>\n",
       "<style scoped>\n",
       "    .dataframe tbody tr th:only-of-type {\n",
       "        vertical-align: middle;\n",
       "    }\n",
       "\n",
       "    .dataframe tbody tr th {\n",
       "        vertical-align: top;\n",
       "    }\n",
       "\n",
       "    .dataframe thead th {\n",
       "        text-align: right;\n",
       "    }\n",
       "</style>\n",
       "<table border=\"1\" class=\"dataframe\">\n",
       "  <thead>\n",
       "    <tr style=\"text-align: right;\">\n",
       "      <th></th>\n",
       "      <th>instant</th>\n",
       "      <th>dteday</th>\n",
       "      <th>season</th>\n",
       "      <th>yr</th>\n",
       "      <th>mnth</th>\n",
       "      <th>holiday</th>\n",
       "      <th>weekday</th>\n",
       "      <th>workingday</th>\n",
       "      <th>weathersit</th>\n",
       "      <th>temp</th>\n",
       "      <th>atemp</th>\n",
       "      <th>hum</th>\n",
       "      <th>windspeed</th>\n",
       "      <th>casual</th>\n",
       "      <th>registered</th>\n",
       "      <th>cnt</th>\n",
       "    </tr>\n",
       "  </thead>\n",
       "  <tbody>\n",
       "    <tr>\n",
       "      <th>0</th>\n",
       "      <td>1</td>\n",
       "      <td>2011-01-01</td>\n",
       "      <td>1</td>\n",
       "      <td>0</td>\n",
       "      <td>1</td>\n",
       "      <td>0</td>\n",
       "      <td>6</td>\n",
       "      <td>0</td>\n",
       "      <td>2</td>\n",
       "      <td>0.344167</td>\n",
       "      <td>0.363625</td>\n",
       "      <td>0.805833</td>\n",
       "      <td>0.160446</td>\n",
       "      <td>331</td>\n",
       "      <td>654</td>\n",
       "      <td>985</td>\n",
       "    </tr>\n",
       "    <tr>\n",
       "      <th>1</th>\n",
       "      <td>2</td>\n",
       "      <td>2011-01-02</td>\n",
       "      <td>1</td>\n",
       "      <td>0</td>\n",
       "      <td>1</td>\n",
       "      <td>0</td>\n",
       "      <td>0</td>\n",
       "      <td>0</td>\n",
       "      <td>2</td>\n",
       "      <td>0.363478</td>\n",
       "      <td>0.353739</td>\n",
       "      <td>0.696087</td>\n",
       "      <td>0.248539</td>\n",
       "      <td>131</td>\n",
       "      <td>670</td>\n",
       "      <td>801</td>\n",
       "    </tr>\n",
       "    <tr>\n",
       "      <th>2</th>\n",
       "      <td>3</td>\n",
       "      <td>2011-01-03</td>\n",
       "      <td>1</td>\n",
       "      <td>0</td>\n",
       "      <td>1</td>\n",
       "      <td>0</td>\n",
       "      <td>1</td>\n",
       "      <td>1</td>\n",
       "      <td>1</td>\n",
       "      <td>0.196364</td>\n",
       "      <td>0.189405</td>\n",
       "      <td>0.437273</td>\n",
       "      <td>0.248309</td>\n",
       "      <td>120</td>\n",
       "      <td>1229</td>\n",
       "      <td>1349</td>\n",
       "    </tr>\n",
       "    <tr>\n",
       "      <th>3</th>\n",
       "      <td>4</td>\n",
       "      <td>2011-01-04</td>\n",
       "      <td>1</td>\n",
       "      <td>0</td>\n",
       "      <td>1</td>\n",
       "      <td>0</td>\n",
       "      <td>2</td>\n",
       "      <td>1</td>\n",
       "      <td>1</td>\n",
       "      <td>0.200000</td>\n",
       "      <td>0.212122</td>\n",
       "      <td>0.590435</td>\n",
       "      <td>0.160296</td>\n",
       "      <td>108</td>\n",
       "      <td>1454</td>\n",
       "      <td>1562</td>\n",
       "    </tr>\n",
       "    <tr>\n",
       "      <th>4</th>\n",
       "      <td>5</td>\n",
       "      <td>2011-01-05</td>\n",
       "      <td>1</td>\n",
       "      <td>0</td>\n",
       "      <td>1</td>\n",
       "      <td>0</td>\n",
       "      <td>3</td>\n",
       "      <td>1</td>\n",
       "      <td>1</td>\n",
       "      <td>0.226957</td>\n",
       "      <td>0.229270</td>\n",
       "      <td>0.436957</td>\n",
       "      <td>0.186900</td>\n",
       "      <td>82</td>\n",
       "      <td>1518</td>\n",
       "      <td>1600</td>\n",
       "    </tr>\n",
       "  </tbody>\n",
       "</table>\n",
       "</div>"
      ],
      "text/plain": [
       "   instant     dteday season yr mnth holiday weekday workingday weathersit  \\\n",
       "0        1 2011-01-01      1  0    1       0       6          0          2   \n",
       "1        2 2011-01-02      1  0    1       0       0          0          2   \n",
       "2        3 2011-01-03      1  0    1       0       1          1          1   \n",
       "3        4 2011-01-04      1  0    1       0       2          1          1   \n",
       "4        5 2011-01-05      1  0    1       0       3          1          1   \n",
       "\n",
       "       temp     atemp       hum  windspeed  casual  registered   cnt  \n",
       "0  0.344167  0.363625  0.805833   0.160446     331         654   985  \n",
       "1  0.363478  0.353739  0.696087   0.248539     131         670   801  \n",
       "2  0.196364  0.189405  0.437273   0.248309     120        1229  1349  \n",
       "3  0.200000  0.212122  0.590435   0.160296     108        1454  1562  \n",
       "4  0.226957  0.229270  0.436957   0.186900      82        1518  1600  "
      ]
     },
     "execution_count": 18,
     "metadata": {},
     "output_type": "execute_result"
    }
   ],
   "source": [
    "df.head()"
   ]
  },
  {
   "cell_type": "code",
   "execution_count": 19,
   "metadata": {},
   "outputs": [
    {
     "data": {
      "image/png": "[encoded data removed]",
      "text/plain": [
       "<Figure size 432x288 with 1 Axes>"
      ]
     },
     "metadata": {},
     "output_type": "display_data"
    }
   ],
   "source": [
    "#Plot boxplot to visualize Outliers\n",
    "sns.set(style=\"whitegrid\")\n",
    "ax = sns.boxplot(x=df['cnt'],orient ='h')"
   ]
  },
  {
   "cell_type": "code",
   "execution_count": 20,
   "metadata": {},
   "outputs": [
    {
     "data": {
      "image/png": "[encoded data removed]",
      "text/plain": [
       "<Figure size 432x288 with 1 Axes>"
      ]
     },
     "metadata": {},
     "output_type": "display_data"
    }
   ],
   "source": [
    "ax = sns.boxplot(x=df['hum'],orient ='h')"
   ]
  },
  {
   "cell_type": "code",
   "execution_count": 21,
   "metadata": {},
   "outputs": [
    {
     "data": {
      "image/png": "[encoded data removed]",
      "text/plain": [
       "<Figure size 432x288 with 1 Axes>"
      ]
     },
     "metadata": {},
     "output_type": "display_data"
    }
   ],
   "source": [
    "ax = sns.boxplot(x=df['windspeed'],orient ='h')"
   ]
  },
  {
   "cell_type": "code",
   "execution_count": 22,
   "metadata": {},
   "outputs": [
    {
     "data": {
      "image/png": "[encoded data removed]",
      "text/plain": [
       "<Figure size 432x288 with 1 Axes>"
      ]
     },
     "metadata": {},
     "output_type": "display_data"
    }
   ],
   "source": [
    "ax = sns.boxplot(x=df['casual'],orient ='h')"
   ]
  },
  {
   "cell_type": "code",
   "execution_count": 26,
   "metadata": {},
   "outputs": [],
   "source": [
    "#create dataframe for outliers\n",
    "wind_hum_cas=pd.DataFrame(df,columns=['windspeed','hum', 'casual'])\n",
    "#column names for outliers                     \n",
    "cnames=['windspeed','hum', 'casual']"
   ]
  },
  {
   "cell_type": "code",
   "execution_count": 27,
   "metadata": {
    "scrolled": true
   },
   "outputs": [
    {
     "name": "stdout",
     "output_type": "stream",
     "text": [
      "windspeed\n",
      "-0.012446750000000034\n",
      "0.38061125\n",
      "hum\n",
      "0.20468725\n",
      "1.0455212500000002\n",
      "casual\n",
      "-855.25\n",
      "2266.75\n"
     ]
    }
   ],
   "source": [
    "# Detect and delete outliers from train data\n",
    "for i in cnames:\n",
    "    print(i)\n",
    "    q75, q25 = np.percentile(wind_hum_cas[i], [75 ,25])\n",
    "    iqr = q75 - q25\n",
    "\n",
    "    min = q25 - (iqr*1.5)\n",
    "    max = q75 + (iqr*1.5)\n",
    "    print(min)\n",
    "    print(max)\n",
    "    \n",
    "#Replace with NA\n",
    "wind_hum_cas.loc[wind_hum_cas[i]<min,:i]=np.nan\n",
    "wind_hum_cas.loc[wind_hum_cas[i]>max,:i]=np.nan  "
   ]
  },
  {
   "cell_type": "code",
   "execution_count": 28,
   "metadata": {},
   "outputs": [
    {
     "data": {
      "text/html": [
       "<div>\n",
       "<style scoped>\n",
       "    .dataframe tbody tr th:only-of-type {\n",
       "        vertical-align: middle;\n",
       "    }\n",
       "\n",
       "    .dataframe tbody tr th {\n",
       "        vertical-align: top;\n",
       "    }\n",
       "\n",
       "    .dataframe thead th {\n",
       "        text-align: right;\n",
       "    }\n",
       "</style>\n",
       "<table border=\"1\" class=\"dataframe\">\n",
       "  <thead>\n",
       "    <tr style=\"text-align: right;\">\n",
       "      <th></th>\n",
       "      <th>0</th>\n",
       "    </tr>\n",
       "  </thead>\n",
       "  <tbody>\n",
       "    <tr>\n",
       "      <th>windspeed</th>\n",
       "      <td>44</td>\n",
       "    </tr>\n",
       "    <tr>\n",
       "      <th>hum</th>\n",
       "      <td>44</td>\n",
       "    </tr>\n",
       "    <tr>\n",
       "      <th>casual</th>\n",
       "      <td>44</td>\n",
       "    </tr>\n",
       "  </tbody>\n",
       "</table>\n",
       "</div>"
      ],
      "text/plain": [
       "            0\n",
       "windspeed  44\n",
       "hum        44\n",
       "casual     44"
      ]
     },
     "execution_count": 28,
     "metadata": {},
     "output_type": "execute_result"
    }
   ],
   "source": [
    "#Create dataframe with missing values in train data\n",
    "missing_val1 = pd.DataFrame(wind_hum_cas.isnull().sum())\n",
    "missing_val1"
   ]
  },
  {
   "cell_type": "code",
   "execution_count": 29,
   "metadata": {},
   "outputs": [],
   "source": [
    "#Imputating the outliers by mean Imputation\n",
    "wind_hum_cas['windspeed']=wind_hum_cas['windspeed'].fillna(wind_hum_cas['windspeed'].mean())\n",
    "wind_hum_cas['hum']=wind_hum_cas['hum'].fillna(wind_hum_cas['hum'].mean())\n",
    "wind_hum_cas['casual']=wind_hum_cas['casual'].fillna(wind_hum_cas['casual'].mean())"
   ]
  },
  {
   "cell_type": "code",
   "execution_count": 30,
   "metadata": {
    "scrolled": true
   },
   "outputs": [
    {
     "data": {
      "text/html": [
       "<div>\n",
       "<style scoped>\n",
       "    .dataframe tbody tr th:only-of-type {\n",
       "        vertical-align: middle;\n",
       "    }\n",
       "\n",
       "    .dataframe tbody tr th {\n",
       "        vertical-align: top;\n",
       "    }\n",
       "\n",
       "    .dataframe thead th {\n",
       "        text-align: right;\n",
       "    }\n",
       "</style>\n",
       "<table border=\"1\" class=\"dataframe\">\n",
       "  <thead>\n",
       "    <tr style=\"text-align: right;\">\n",
       "      <th></th>\n",
       "      <th>instant</th>\n",
       "      <th>dteday</th>\n",
       "      <th>season</th>\n",
       "      <th>yr</th>\n",
       "      <th>mnth</th>\n",
       "      <th>holiday</th>\n",
       "      <th>weekday</th>\n",
       "      <th>workingday</th>\n",
       "      <th>weathersit</th>\n",
       "      <th>temp</th>\n",
       "      <th>atemp</th>\n",
       "      <th>hum</th>\n",
       "      <th>windspeed</th>\n",
       "      <th>casual</th>\n",
       "      <th>registered</th>\n",
       "      <th>cnt</th>\n",
       "    </tr>\n",
       "  </thead>\n",
       "  <tbody>\n",
       "    <tr>\n",
       "      <th>0</th>\n",
       "      <td>1</td>\n",
       "      <td>2011-01-01</td>\n",
       "      <td>1</td>\n",
       "      <td>0</td>\n",
       "      <td>1</td>\n",
       "      <td>0</td>\n",
       "      <td>6</td>\n",
       "      <td>0</td>\n",
       "      <td>2</td>\n",
       "      <td>0.344167</td>\n",
       "      <td>0.363625</td>\n",
       "      <td>0.805833</td>\n",
       "      <td>0.160446</td>\n",
       "      <td>331.0</td>\n",
       "      <td>654</td>\n",
       "      <td>985</td>\n",
       "    </tr>\n",
       "    <tr>\n",
       "      <th>1</th>\n",
       "      <td>2</td>\n",
       "      <td>2011-01-02</td>\n",
       "      <td>1</td>\n",
       "      <td>0</td>\n",
       "      <td>1</td>\n",
       "      <td>0</td>\n",
       "      <td>0</td>\n",
       "      <td>0</td>\n",
       "      <td>2</td>\n",
       "      <td>0.363478</td>\n",
       "      <td>0.353739</td>\n",
       "      <td>0.696087</td>\n",
       "      <td>0.248539</td>\n",
       "      <td>131.0</td>\n",
       "      <td>670</td>\n",
       "      <td>801</td>\n",
       "    </tr>\n",
       "    <tr>\n",
       "      <th>2</th>\n",
       "      <td>3</td>\n",
       "      <td>2011-01-03</td>\n",
       "      <td>1</td>\n",
       "      <td>0</td>\n",
       "      <td>1</td>\n",
       "      <td>0</td>\n",
       "      <td>1</td>\n",
       "      <td>1</td>\n",
       "      <td>1</td>\n",
       "      <td>0.196364</td>\n",
       "      <td>0.189405</td>\n",
       "      <td>0.437273</td>\n",
       "      <td>0.248309</td>\n",
       "      <td>120.0</td>\n",
       "      <td>1229</td>\n",
       "      <td>1349</td>\n",
       "    </tr>\n",
       "    <tr>\n",
       "      <th>3</th>\n",
       "      <td>4</td>\n",
       "      <td>2011-01-04</td>\n",
       "      <td>1</td>\n",
       "      <td>0</td>\n",
       "      <td>1</td>\n",
       "      <td>0</td>\n",
       "      <td>2</td>\n",
       "      <td>1</td>\n",
       "      <td>1</td>\n",
       "      <td>0.200000</td>\n",
       "      <td>0.212122</td>\n",
       "      <td>0.590435</td>\n",
       "      <td>0.160296</td>\n",
       "      <td>108.0</td>\n",
       "      <td>1454</td>\n",
       "      <td>1562</td>\n",
       "    </tr>\n",
       "    <tr>\n",
       "      <th>4</th>\n",
       "      <td>5</td>\n",
       "      <td>2011-01-05</td>\n",
       "      <td>1</td>\n",
       "      <td>0</td>\n",
       "      <td>1</td>\n",
       "      <td>0</td>\n",
       "      <td>3</td>\n",
       "      <td>1</td>\n",
       "      <td>1</td>\n",
       "      <td>0.226957</td>\n",
       "      <td>0.229270</td>\n",
       "      <td>0.436957</td>\n",
       "      <td>0.186900</td>\n",
       "      <td>82.0</td>\n",
       "      <td>1518</td>\n",
       "      <td>1600</td>\n",
       "    </tr>\n",
       "  </tbody>\n",
       "</table>\n",
       "</div>"
      ],
      "text/plain": [
       "   instant     dteday season yr mnth holiday weekday workingday weathersit  \\\n",
       "0        1 2011-01-01      1  0    1       0       6          0          2   \n",
       "1        2 2011-01-02      1  0    1       0       0          0          2   \n",
       "2        3 2011-01-03      1  0    1       0       1          1          1   \n",
       "3        4 2011-01-04      1  0    1       0       2          1          1   \n",
       "4        5 2011-01-05      1  0    1       0       3          1          1   \n",
       "\n",
       "       temp     atemp       hum  windspeed  casual  registered   cnt  \n",
       "0  0.344167  0.363625  0.805833   0.160446   331.0         654   985  \n",
       "1  0.363478  0.353739  0.696087   0.248539   131.0         670   801  \n",
       "2  0.196364  0.189405  0.437273   0.248309   120.0        1229  1349  \n",
       "3  0.200000  0.212122  0.590435   0.160296   108.0        1454  1562  \n",
       "4  0.226957  0.229270  0.436957   0.186900    82.0        1518  1600  "
      ]
     },
     "execution_count": 30,
     "metadata": {},
     "output_type": "execute_result"
    }
   ],
   "source": [
    "#Replacing the imputated windspeed\n",
    "df['windspeed']=wind_hum_cas['windspeed']\n",
    "#Replacing the imputated humidity\n",
    "df['hum']=wind_hum_cas['hum']\n",
    "#Replacing the imputated casual\n",
    "df['casual']=wind_hum_cas['casual']\n",
    "df.head(5)"
   ]
  },
  {
   "cell_type": "code",
   "execution_count": 31,
   "metadata": {},
   "outputs": [
    {
     "data": {
      "text/html": [
       "<div>\n",
       "<style scoped>\n",
       "    .dataframe tbody tr th:only-of-type {\n",
       "        vertical-align: middle;\n",
       "    }\n",
       "\n",
       "    .dataframe tbody tr th {\n",
       "        vertical-align: top;\n",
       "    }\n",
       "\n",
       "    .dataframe thead th {\n",
       "        text-align: right;\n",
       "    }\n",
       "</style>\n",
       "<table border=\"1\" class=\"dataframe\">\n",
       "  <thead>\n",
       "    <tr style=\"text-align: right;\">\n",
       "      <th></th>\n",
       "      <th>0</th>\n",
       "    </tr>\n",
       "  </thead>\n",
       "  <tbody>\n",
       "    <tr>\n",
       "      <th>instant</th>\n",
       "      <td>0</td>\n",
       "    </tr>\n",
       "    <tr>\n",
       "      <th>dteday</th>\n",
       "      <td>0</td>\n",
       "    </tr>\n",
       "    <tr>\n",
       "      <th>season</th>\n",
       "      <td>0</td>\n",
       "    </tr>\n",
       "    <tr>\n",
       "      <th>yr</th>\n",
       "      <td>0</td>\n",
       "    </tr>\n",
       "    <tr>\n",
       "      <th>mnth</th>\n",
       "      <td>0</td>\n",
       "    </tr>\n",
       "    <tr>\n",
       "      <th>holiday</th>\n",
       "      <td>0</td>\n",
       "    </tr>\n",
       "    <tr>\n",
       "      <th>weekday</th>\n",
       "      <td>0</td>\n",
       "    </tr>\n",
       "    <tr>\n",
       "      <th>workingday</th>\n",
       "      <td>0</td>\n",
       "    </tr>\n",
       "    <tr>\n",
       "      <th>weathersit</th>\n",
       "      <td>0</td>\n",
       "    </tr>\n",
       "    <tr>\n",
       "      <th>temp</th>\n",
       "      <td>0</td>\n",
       "    </tr>\n",
       "    <tr>\n",
       "      <th>atemp</th>\n",
       "      <td>0</td>\n",
       "    </tr>\n",
       "    <tr>\n",
       "      <th>hum</th>\n",
       "      <td>0</td>\n",
       "    </tr>\n",
       "    <tr>\n",
       "      <th>windspeed</th>\n",
       "      <td>0</td>\n",
       "    </tr>\n",
       "    <tr>\n",
       "      <th>casual</th>\n",
       "      <td>0</td>\n",
       "    </tr>\n",
       "    <tr>\n",
       "      <th>registered</th>\n",
       "      <td>0</td>\n",
       "    </tr>\n",
       "    <tr>\n",
       "      <th>cnt</th>\n",
       "      <td>0</td>\n",
       "    </tr>\n",
       "  </tbody>\n",
       "</table>\n",
       "</div>"
      ],
      "text/plain": [
       "            0\n",
       "instant     0\n",
       "dteday      0\n",
       "season      0\n",
       "yr          0\n",
       "mnth        0\n",
       "holiday     0\n",
       "weekday     0\n",
       "workingday  0\n",
       "weathersit  0\n",
       "temp        0\n",
       "atemp       0\n",
       "hum         0\n",
       "windspeed   0\n",
       "casual      0\n",
       "registered  0\n",
       "cnt         0"
      ]
     },
     "execution_count": 31,
     "metadata": {},
     "output_type": "execute_result"
    }
   ],
   "source": [
    "missing_val2 = pd.DataFrame(df.isnull().sum())\n",
    "missing_val2"
   ]
  },
  {
   "cell_type": "code",
   "execution_count": 32,
   "metadata": {},
   "outputs": [
    {
     "data": {
      "image/png": "[encoded data removed]",
      "text/plain": [
       "<Figure size 432x288 with 1 Axes>"
      ]
     },
     "metadata": {},
     "output_type": "display_data"
    }
   ],
   "source": [
    "ax = sns.boxplot(x=df['casual'],orient ='h')"
   ]
  },
  {
   "cell_type": "code",
   "execution_count": 33,
   "metadata": {},
   "outputs": [
    {
     "data": {
      "image/png": "[encoded data removed]",
      "text/plain": [
       "<Figure size 432x288 with 1 Axes>"
      ]
     },
     "metadata": {},
     "output_type": "display_data"
    }
   ],
   "source": [
    "ax = sns.boxplot(x=df['windspeed'],orient ='h')"
   ]
  },
  {
   "cell_type": "code",
   "execution_count": 34,
   "metadata": {},
   "outputs": [
    {
     "data": {
      "image/png": "[encoded data removed]",
      "text/plain": [
       "<Figure size 432x288 with 1 Axes>"
      ]
     },
     "metadata": {},
     "output_type": "display_data"
    }
   ],
   "source": [
    "ax = sns.boxplot(x=df['hum'],orient ='h')"
   ]
  },
  {
   "cell_type": "markdown",
   "metadata": {},
   "source": [
    "# Feature Selection"
   ]
  },
  {
   "cell_type": "code",
   "execution_count": 35,
   "metadata": {},
   "outputs": [
    {
     "data": {
      "text/html": [
       "<style  type=\"text/css\" >\n",
       "    #T_3538d588_4aa6_11ea_8a5b_5cea1d262e84row0_col0 {\n",
       "            background-color:  #b40426;\n",
       "            color:  #f1f1f1;\n",
       "        }    #T_3538d588_4aa6_11ea_8a5b_5cea1d262e84row0_col1 {\n",
       "            background-color:  #b50927;\n",
       "            color:  #f1f1f1;\n",
       "        }    #T_3538d588_4aa6_11ea_8a5b_5cea1d262e84row0_col2 {\n",
       "            background-color:  #8badfd;\n",
       "            color:  #000000;\n",
       "        }    #T_3538d588_4aa6_11ea_8a5b_5cea1d262e84row0_col3 {\n",
       "            background-color:  #3b4cc0;\n",
       "            color:  #f1f1f1;\n",
       "        }    #T_3538d588_4aa6_11ea_8a5b_5cea1d262e84row0_col4 {\n",
       "            background-color:  #f5c0a7;\n",
       "            color:  #000000;\n",
       "        }    #T_3538d588_4aa6_11ea_8a5b_5cea1d262e84row0_col5 {\n",
       "            background-color:  #f2cbb7;\n",
       "            color:  #000000;\n",
       "        }    #T_3538d588_4aa6_11ea_8a5b_5cea1d262e84row0_col6 {\n",
       "            background-color:  #f7b497;\n",
       "            color:  #000000;\n",
       "        }    #T_3538d588_4aa6_11ea_8a5b_5cea1d262e84row1_col0 {\n",
       "            background-color:  #b50927;\n",
       "            color:  #f1f1f1;\n",
       "        }    #T_3538d588_4aa6_11ea_8a5b_5cea1d262e84row1_col1 {\n",
       "            background-color:  #b40426;\n",
       "            color:  #f1f1f1;\n",
       "        }    #T_3538d588_4aa6_11ea_8a5b_5cea1d262e84row1_col2 {\n",
       "            background-color:  #96b7ff;\n",
       "            color:  #000000;\n",
       "        }    #T_3538d588_4aa6_11ea_8a5b_5cea1d262e84row1_col3 {\n",
       "            background-color:  #3b4cc0;\n",
       "            color:  #f1f1f1;\n",
       "        }    #T_3538d588_4aa6_11ea_8a5b_5cea1d262e84row1_col4 {\n",
       "            background-color:  #f6bea4;\n",
       "            color:  #000000;\n",
       "        }    #T_3538d588_4aa6_11ea_8a5b_5cea1d262e84row1_col5 {\n",
       "            background-color:  #f3c7b1;\n",
       "            color:  #000000;\n",
       "        }    #T_3538d588_4aa6_11ea_8a5b_5cea1d262e84row1_col6 {\n",
       "            background-color:  #f7b194;\n",
       "            color:  #000000;\n",
       "        }    #T_3538d588_4aa6_11ea_8a5b_5cea1d262e84row2_col0 {\n",
       "            background-color:  #a1c0ff;\n",
       "            color:  #000000;\n",
       "        }    #T_3538d588_4aa6_11ea_8a5b_5cea1d262e84row2_col1 {\n",
       "            background-color:  #a5c3fe;\n",
       "            color:  #000000;\n",
       "        }    #T_3538d588_4aa6_11ea_8a5b_5cea1d262e84row2_col2 {\n",
       "            background-color:  #b40426;\n",
       "            color:  #f1f1f1;\n",
       "        }    #T_3538d588_4aa6_11ea_8a5b_5cea1d262e84row2_col3 {\n",
       "            background-color:  #3b4cc0;\n",
       "            color:  #f1f1f1;\n",
       "        }    #T_3538d588_4aa6_11ea_8a5b_5cea1d262e84row2_col4 {\n",
       "            background-color:  #688aef;\n",
       "            color:  #000000;\n",
       "        }    #T_3538d588_4aa6_11ea_8a5b_5cea1d262e84row2_col5 {\n",
       "            background-color:  #6687ed;\n",
       "            color:  #000000;\n",
       "        }    #T_3538d588_4aa6_11ea_8a5b_5cea1d262e84row2_col6 {\n",
       "            background-color:  #6687ed;\n",
       "            color:  #000000;\n",
       "        }    #T_3538d588_4aa6_11ea_8a5b_5cea1d262e84row3_col0 {\n",
       "            background-color:  #536edd;\n",
       "            color:  #000000;\n",
       "        }    #T_3538d588_4aa6_11ea_8a5b_5cea1d262e84row3_col1 {\n",
       "            background-color:  #4c66d6;\n",
       "            color:  #000000;\n",
       "        }    #T_3538d588_4aa6_11ea_8a5b_5cea1d262e84row3_col2 {\n",
       "            background-color:  #3b4cc0;\n",
       "            color:  #f1f1f1;\n",
       "        }    #T_3538d588_4aa6_11ea_8a5b_5cea1d262e84row3_col3 {\n",
       "            background-color:  #b40426;\n",
       "            color:  #f1f1f1;\n",
       "        }    #T_3538d588_4aa6_11ea_8a5b_5cea1d262e84row3_col4 {\n",
       "            background-color:  #465ecf;\n",
       "            color:  #f1f1f1;\n",
       "        }    #T_3538d588_4aa6_11ea_8a5b_5cea1d262e84row3_col5 {\n",
       "            background-color:  #4257c9;\n",
       "            color:  #f1f1f1;\n",
       "        }    #T_3538d588_4aa6_11ea_8a5b_5cea1d262e84row3_col6 {\n",
       "            background-color:  #3f53c6;\n",
       "            color:  #f1f1f1;\n",
       "        }    #T_3538d588_4aa6_11ea_8a5b_5cea1d262e84row4_col0 {\n",
       "            background-color:  #f7bca1;\n",
       "            color:  #000000;\n",
       "        }    #T_3538d588_4aa6_11ea_8a5b_5cea1d262e84row4_col1 {\n",
       "            background-color:  #f7bca1;\n",
       "            color:  #000000;\n",
       "        }    #T_3538d588_4aa6_11ea_8a5b_5cea1d262e84row4_col2 {\n",
       "            background-color:  #5d7ce6;\n",
       "            color:  #000000;\n",
       "        }    #T_3538d588_4aa6_11ea_8a5b_5cea1d262e84row4_col3 {\n",
       "            background-color:  #3b4cc0;\n",
       "            color:  #f1f1f1;\n",
       "        }    #T_3538d588_4aa6_11ea_8a5b_5cea1d262e84row4_col4 {\n",
       "            background-color:  #b40426;\n",
       "            color:  #f1f1f1;\n",
       "        }    #T_3538d588_4aa6_11ea_8a5b_5cea1d262e84row4_col5 {\n",
       "            background-color:  #e2dad5;\n",
       "            color:  #000000;\n",
       "        }    #T_3538d588_4aa6_11ea_8a5b_5cea1d262e84row4_col6 {\n",
       "            background-color:  #f7b79b;\n",
       "            color:  #000000;\n",
       "        }    #T_3538d588_4aa6_11ea_8a5b_5cea1d262e84row5_col0 {\n",
       "            background-color:  #f4c5ad;\n",
       "            color:  #000000;\n",
       "        }    #T_3538d588_4aa6_11ea_8a5b_5cea1d262e84row5_col1 {\n",
       "            background-color:  #f5c4ac;\n",
       "            color:  #000000;\n",
       "        }    #T_3538d588_4aa6_11ea_8a5b_5cea1d262e84row5_col2 {\n",
       "            background-color:  #5e7de7;\n",
       "            color:  #000000;\n",
       "        }    #T_3538d588_4aa6_11ea_8a5b_5cea1d262e84row5_col3 {\n",
       "            background-color:  #3b4cc0;\n",
       "            color:  #f1f1f1;\n",
       "        }    #T_3538d588_4aa6_11ea_8a5b_5cea1d262e84row5_col4 {\n",
       "            background-color:  #e4d9d2;\n",
       "            color:  #000000;\n",
       "        }    #T_3538d588_4aa6_11ea_8a5b_5cea1d262e84row5_col5 {\n",
       "            background-color:  #b40426;\n",
       "            color:  #f1f1f1;\n",
       "        }    #T_3538d588_4aa6_11ea_8a5b_5cea1d262e84row5_col6 {\n",
       "            background-color:  #c43032;\n",
       "            color:  #f1f1f1;\n",
       "        }    #T_3538d588_4aa6_11ea_8a5b_5cea1d262e84row6_col0 {\n",
       "            background-color:  #f7ad90;\n",
       "            color:  #000000;\n",
       "        }    #T_3538d588_4aa6_11ea_8a5b_5cea1d262e84row6_col1 {\n",
       "            background-color:  #f7ac8e;\n",
       "            color:  #000000;\n",
       "        }    #T_3538d588_4aa6_11ea_8a5b_5cea1d262e84row6_col2 {\n",
       "            background-color:  #6180e9;\n",
       "            color:  #000000;\n",
       "        }    #T_3538d588_4aa6_11ea_8a5b_5cea1d262e84row6_col3 {\n",
       "            background-color:  #3b4cc0;\n",
       "            color:  #f1f1f1;\n",
       "        }    #T_3538d588_4aa6_11ea_8a5b_5cea1d262e84row6_col4 {\n",
       "            background-color:  #f7b497;\n",
       "            color:  #000000;\n",
       "        }    #T_3538d588_4aa6_11ea_8a5b_5cea1d262e84row6_col5 {\n",
       "            background-color:  #c43032;\n",
       "            color:  #f1f1f1;\n",
       "        }    #T_3538d588_4aa6_11ea_8a5b_5cea1d262e84row6_col6 {\n",
       "            background-color:  #b40426;\n",
       "            color:  #f1f1f1;\n",
       "        }</style><table id=\"T_3538d588_4aa6_11ea_8a5b_5cea1d262e84\" ><thead>    <tr>        <th class=\"blank level0\" ></th>        <th class=\"col_heading level0 col0\" >temp</th>        <th class=\"col_heading level0 col1\" >atemp</th>        <th class=\"col_heading level0 col2\" >hum</th>        <th class=\"col_heading level0 col3\" >windspeed</th>        <th class=\"col_heading level0 col4\" >casual</th>        <th class=\"col_heading level0 col5\" >registered</th>        <th class=\"col_heading level0 col6\" >cnt</th>    </tr></thead><tbody>\n",
       "                <tr>\n",
       "                        <th id=\"T_3538d588_4aa6_11ea_8a5b_5cea1d262e84level0_row0\" class=\"row_heading level0 row0\" >temp</th>\n",
       "                        <td id=\"T_3538d588_4aa6_11ea_8a5b_5cea1d262e84row0_col0\" class=\"data row0 col0\" >1.0</td>\n",
       "                        <td id=\"T_3538d588_4aa6_11ea_8a5b_5cea1d262e84row0_col1\" class=\"data row0 col1\" >0.99</td>\n",
       "                        <td id=\"T_3538d588_4aa6_11ea_8a5b_5cea1d262e84row0_col2\" class=\"data row0 col2\" >0.13</td>\n",
       "                        <td id=\"T_3538d588_4aa6_11ea_8a5b_5cea1d262e84row0_col3\" class=\"data row0 col3\" >-0.15</td>\n",
       "                        <td id=\"T_3538d588_4aa6_11ea_8a5b_5cea1d262e84row0_col4\" class=\"data row0 col4\" >0.58</td>\n",
       "                        <td id=\"T_3538d588_4aa6_11ea_8a5b_5cea1d262e84row0_col5\" class=\"data row0 col5\" >0.54</td>\n",
       "                        <td id=\"T_3538d588_4aa6_11ea_8a5b_5cea1d262e84row0_col6\" class=\"data row0 col6\" >0.63</td>\n",
       "            </tr>\n",
       "            <tr>\n",
       "                        <th id=\"T_3538d588_4aa6_11ea_8a5b_5cea1d262e84level0_row1\" class=\"row_heading level0 row1\" >atemp</th>\n",
       "                        <td id=\"T_3538d588_4aa6_11ea_8a5b_5cea1d262e84row1_col0\" class=\"data row1 col0\" >0.99</td>\n",
       "                        <td id=\"T_3538d588_4aa6_11ea_8a5b_5cea1d262e84row1_col1\" class=\"data row1 col1\" >1.0</td>\n",
       "                        <td id=\"T_3538d588_4aa6_11ea_8a5b_5cea1d262e84row1_col2\" class=\"data row1 col2\" >0.14</td>\n",
       "                        <td id=\"T_3538d588_4aa6_11ea_8a5b_5cea1d262e84row1_col3\" class=\"data row1 col3\" >-0.18</td>\n",
       "                        <td id=\"T_3538d588_4aa6_11ea_8a5b_5cea1d262e84row1_col4\" class=\"data row1 col4\" >0.58</td>\n",
       "                        <td id=\"T_3538d588_4aa6_11ea_8a5b_5cea1d262e84row1_col5\" class=\"data row1 col5\" >0.54</td>\n",
       "                        <td id=\"T_3538d588_4aa6_11ea_8a5b_5cea1d262e84row1_col6\" class=\"data row1 col6\" >0.63</td>\n",
       "            </tr>\n",
       "            <tr>\n",
       "                        <th id=\"T_3538d588_4aa6_11ea_8a5b_5cea1d262e84level0_row2\" class=\"row_heading level0 row2\" >hum</th>\n",
       "                        <td id=\"T_3538d588_4aa6_11ea_8a5b_5cea1d262e84row2_col0\" class=\"data row2 col0\" >0.13</td>\n",
       "                        <td id=\"T_3538d588_4aa6_11ea_8a5b_5cea1d262e84row2_col1\" class=\"data row2 col1\" >0.14</td>\n",
       "                        <td id=\"T_3538d588_4aa6_11ea_8a5b_5cea1d262e84row2_col2\" class=\"data row2 col2\" >1.0</td>\n",
       "                        <td id=\"T_3538d588_4aa6_11ea_8a5b_5cea1d262e84row2_col3\" class=\"data row2 col3\" >-0.25</td>\n",
       "                        <td id=\"T_3538d588_4aa6_11ea_8a5b_5cea1d262e84row2_col4\" class=\"data row2 col4\" >-0.07</td>\n",
       "                        <td id=\"T_3538d588_4aa6_11ea_8a5b_5cea1d262e84row2_col5\" class=\"data row2 col5\" >-0.078</td>\n",
       "                        <td id=\"T_3538d588_4aa6_11ea_8a5b_5cea1d262e84row2_col6\" class=\"data row2 col6\" >-0.081</td>\n",
       "            </tr>\n",
       "            <tr>\n",
       "                        <th id=\"T_3538d588_4aa6_11ea_8a5b_5cea1d262e84level0_row3\" class=\"row_heading level0 row3\" >windspeed</th>\n",
       "                        <td id=\"T_3538d588_4aa6_11ea_8a5b_5cea1d262e84row3_col0\" class=\"data row3 col0\" >-0.15</td>\n",
       "                        <td id=\"T_3538d588_4aa6_11ea_8a5b_5cea1d262e84row3_col1\" class=\"data row3 col1\" >-0.18</td>\n",
       "                        <td id=\"T_3538d588_4aa6_11ea_8a5b_5cea1d262e84row3_col2\" class=\"data row3 col2\" >-0.25</td>\n",
       "                        <td id=\"T_3538d588_4aa6_11ea_8a5b_5cea1d262e84row3_col3\" class=\"data row3 col3\" >1.0</td>\n",
       "                        <td id=\"T_3538d588_4aa6_11ea_8a5b_5cea1d262e84row3_col4\" class=\"data row3 col4\" >-0.2</td>\n",
       "                        <td id=\"T_3538d588_4aa6_11ea_8a5b_5cea1d262e84row3_col5\" class=\"data row3 col5\" >-0.22</td>\n",
       "                        <td id=\"T_3538d588_4aa6_11ea_8a5b_5cea1d262e84row3_col6\" class=\"data row3 col6\" >-0.23</td>\n",
       "            </tr>\n",
       "            <tr>\n",
       "                        <th id=\"T_3538d588_4aa6_11ea_8a5b_5cea1d262e84level0_row4\" class=\"row_heading level0 row4\" >casual</th>\n",
       "                        <td id=\"T_3538d588_4aa6_11ea_8a5b_5cea1d262e84row4_col0\" class=\"data row4 col0\" >0.58</td>\n",
       "                        <td id=\"T_3538d588_4aa6_11ea_8a5b_5cea1d262e84row4_col1\" class=\"data row4 col1\" >0.58</td>\n",
       "                        <td id=\"T_3538d588_4aa6_11ea_8a5b_5cea1d262e84row4_col2\" class=\"data row4 col2\" >-0.07</td>\n",
       "                        <td id=\"T_3538d588_4aa6_11ea_8a5b_5cea1d262e84row4_col3\" class=\"data row4 col3\" >-0.2</td>\n",
       "                        <td id=\"T_3538d588_4aa6_11ea_8a5b_5cea1d262e84row4_col4\" class=\"data row4 col4\" >1.0</td>\n",
       "                        <td id=\"T_3538d588_4aa6_11ea_8a5b_5cea1d262e84row4_col5\" class=\"data row4 col5\" >0.43</td>\n",
       "                        <td id=\"T_3538d588_4aa6_11ea_8a5b_5cea1d262e84row4_col6\" class=\"data row4 col6\" >0.6</td>\n",
       "            </tr>\n",
       "            <tr>\n",
       "                        <th id=\"T_3538d588_4aa6_11ea_8a5b_5cea1d262e84level0_row5\" class=\"row_heading level0 row5\" >registered</th>\n",
       "                        <td id=\"T_3538d588_4aa6_11ea_8a5b_5cea1d262e84row5_col0\" class=\"data row5 col0\" >0.54</td>\n",
       "                        <td id=\"T_3538d588_4aa6_11ea_8a5b_5cea1d262e84row5_col1\" class=\"data row5 col1\" >0.54</td>\n",
       "                        <td id=\"T_3538d588_4aa6_11ea_8a5b_5cea1d262e84row5_col2\" class=\"data row5 col2\" >-0.078</td>\n",
       "                        <td id=\"T_3538d588_4aa6_11ea_8a5b_5cea1d262e84row5_col3\" class=\"data row5 col3\" >-0.22</td>\n",
       "                        <td id=\"T_3538d588_4aa6_11ea_8a5b_5cea1d262e84row5_col4\" class=\"data row5 col4\" >0.43</td>\n",
       "                        <td id=\"T_3538d588_4aa6_11ea_8a5b_5cea1d262e84row5_col5\" class=\"data row5 col5\" >1.0</td>\n",
       "                        <td id=\"T_3538d588_4aa6_11ea_8a5b_5cea1d262e84row5_col6\" class=\"data row5 col6\" >0.95</td>\n",
       "            </tr>\n",
       "            <tr>\n",
       "                        <th id=\"T_3538d588_4aa6_11ea_8a5b_5cea1d262e84level0_row6\" class=\"row_heading level0 row6\" >cnt</th>\n",
       "                        <td id=\"T_3538d588_4aa6_11ea_8a5b_5cea1d262e84row6_col0\" class=\"data row6 col0\" >0.63</td>\n",
       "                        <td id=\"T_3538d588_4aa6_11ea_8a5b_5cea1d262e84row6_col1\" class=\"data row6 col1\" >0.63</td>\n",
       "                        <td id=\"T_3538d588_4aa6_11ea_8a5b_5cea1d262e84row6_col2\" class=\"data row6 col2\" >-0.081</td>\n",
       "                        <td id=\"T_3538d588_4aa6_11ea_8a5b_5cea1d262e84row6_col3\" class=\"data row6 col3\" >-0.23</td>\n",
       "                        <td id=\"T_3538d588_4aa6_11ea_8a5b_5cea1d262e84row6_col4\" class=\"data row6 col4\" >0.6</td>\n",
       "                        <td id=\"T_3538d588_4aa6_11ea_8a5b_5cea1d262e84row6_col5\" class=\"data row6 col5\" >0.95</td>\n",
       "                        <td id=\"T_3538d588_4aa6_11ea_8a5b_5cea1d262e84row6_col6\" class=\"data row6 col6\" >1.0</td>\n",
       "            </tr>\n",
       "    </tbody></table>"
      ],
      "text/plain": [
       "<pandas.io.formats.style.Styler at 0x1eba0f37e80>"
      ]
     },
     "execution_count": 35,
     "metadata": {},
     "output_type": "execute_result"
    }
   ],
   "source": [
    "#Creating dataframe for numerical features\n",
    "day_num = df.loc[:,['temp','atemp','hum','windspeed','casual','registered','cnt']]\n",
    "\n",
    "#Correlation matrix between all  numeric variables to find their importance \n",
    "day_num.corr(method='pearson').style.format(\"{:.2}\").background_gradient(cmap=plt.get_cmap('coolwarm'), axis=1)"
   ]
  },
  {
   "cell_type": "code",
   "execution_count": 36,
   "metadata": {},
   "outputs": [],
   "source": [
    "# Dropping the unwanted columns or Dimension Reduction\n",
    "df = df.drop(columns=['instant','dteday','atemp','casual','registered'])"
   ]
  },
  {
   "cell_type": "code",
   "execution_count": 37,
   "metadata": {},
   "outputs": [
    {
     "data": {
      "text/plain": [
       "(731, 11)"
      ]
     },
     "execution_count": 37,
     "metadata": {},
     "output_type": "execute_result"
    }
   ],
   "source": [
    "df.shape"
   ]
  },
  {
   "cell_type": "code",
   "execution_count": 38,
   "metadata": {
    "scrolled": false
   },
   "outputs": [
    {
     "data": {
      "text/html": [
       "<div>\n",
       "<style scoped>\n",
       "    .dataframe tbody tr th:only-of-type {\n",
       "        vertical-align: middle;\n",
       "    }\n",
       "\n",
       "    .dataframe tbody tr th {\n",
       "        vertical-align: top;\n",
       "    }\n",
       "\n",
       "    .dataframe thead th {\n",
       "        text-align: right;\n",
       "    }\n",
       "</style>\n",
       "<table border=\"1\" class=\"dataframe\">\n",
       "  <thead>\n",
       "    <tr style=\"text-align: right;\">\n",
       "      <th></th>\n",
       "      <th>season</th>\n",
       "      <th>yr</th>\n",
       "      <th>mnth</th>\n",
       "      <th>holiday</th>\n",
       "      <th>weekday</th>\n",
       "      <th>workingday</th>\n",
       "      <th>weathersit</th>\n",
       "      <th>temp</th>\n",
       "      <th>hum</th>\n",
       "      <th>windspeed</th>\n",
       "      <th>cnt</th>\n",
       "    </tr>\n",
       "  </thead>\n",
       "  <tbody>\n",
       "    <tr>\n",
       "      <th>0</th>\n",
       "      <td>1</td>\n",
       "      <td>0</td>\n",
       "      <td>1</td>\n",
       "      <td>0</td>\n",
       "      <td>6</td>\n",
       "      <td>0</td>\n",
       "      <td>2</td>\n",
       "      <td>0.344167</td>\n",
       "      <td>0.805833</td>\n",
       "      <td>0.160446</td>\n",
       "      <td>985</td>\n",
       "    </tr>\n",
       "    <tr>\n",
       "      <th>1</th>\n",
       "      <td>1</td>\n",
       "      <td>0</td>\n",
       "      <td>1</td>\n",
       "      <td>0</td>\n",
       "      <td>0</td>\n",
       "      <td>0</td>\n",
       "      <td>2</td>\n",
       "      <td>0.363478</td>\n",
       "      <td>0.696087</td>\n",
       "      <td>0.248539</td>\n",
       "      <td>801</td>\n",
       "    </tr>\n",
       "    <tr>\n",
       "      <th>2</th>\n",
       "      <td>1</td>\n",
       "      <td>0</td>\n",
       "      <td>1</td>\n",
       "      <td>0</td>\n",
       "      <td>1</td>\n",
       "      <td>1</td>\n",
       "      <td>1</td>\n",
       "      <td>0.196364</td>\n",
       "      <td>0.437273</td>\n",
       "      <td>0.248309</td>\n",
       "      <td>1349</td>\n",
       "    </tr>\n",
       "    <tr>\n",
       "      <th>3</th>\n",
       "      <td>1</td>\n",
       "      <td>0</td>\n",
       "      <td>1</td>\n",
       "      <td>0</td>\n",
       "      <td>2</td>\n",
       "      <td>1</td>\n",
       "      <td>1</td>\n",
       "      <td>0.200000</td>\n",
       "      <td>0.590435</td>\n",
       "      <td>0.160296</td>\n",
       "      <td>1562</td>\n",
       "    </tr>\n",
       "    <tr>\n",
       "      <th>4</th>\n",
       "      <td>1</td>\n",
       "      <td>0</td>\n",
       "      <td>1</td>\n",
       "      <td>0</td>\n",
       "      <td>3</td>\n",
       "      <td>1</td>\n",
       "      <td>1</td>\n",
       "      <td>0.226957</td>\n",
       "      <td>0.436957</td>\n",
       "      <td>0.186900</td>\n",
       "      <td>1600</td>\n",
       "    </tr>\n",
       "  </tbody>\n",
       "</table>\n",
       "</div>"
      ],
      "text/plain": [
       "  season yr mnth holiday weekday workingday weathersit      temp       hum  \\\n",
       "0      1  0    1       0       6          0          2  0.344167  0.805833   \n",
       "1      1  0    1       0       0          0          2  0.363478  0.696087   \n",
       "2      1  0    1       0       1          1          1  0.196364  0.437273   \n",
       "3      1  0    1       0       2          1          1  0.200000  0.590435   \n",
       "4      1  0    1       0       3          1          1  0.226957  0.436957   \n",
       "\n",
       "   windspeed   cnt  \n",
       "0   0.160446   985  \n",
       "1   0.248539   801  \n",
       "2   0.248309  1349  \n",
       "3   0.160296  1562  \n",
       "4   0.186900  1600  "
      ]
     },
     "execution_count": 38,
     "metadata": {},
     "output_type": "execute_result"
    }
   ],
   "source": [
    "df.head()"
   ]
  },
  {
   "cell_type": "markdown",
   "metadata": {},
   "source": [
    "#  Convertion of multilevel categorical variable into binary dummy variable"
   ]
  },
  {
   "cell_type": "code",
   "execution_count": 39,
   "metadata": {},
   "outputs": [
    {
     "data": {
      "text/plain": [
       "season        category\n",
       "yr            category\n",
       "mnth          category\n",
       "holiday       category\n",
       "weekday       category\n",
       "workingday    category\n",
       "weathersit    category\n",
       "temp           float64\n",
       "hum            float64\n",
       "windspeed      float64\n",
       "cnt              int64\n",
       "dtype: object"
      ]
     },
     "execution_count": 39,
     "metadata": {},
     "output_type": "execute_result"
    }
   ],
   "source": [
    "df.dtypes"
   ]
  },
  {
   "cell_type": "code",
   "execution_count": 40,
   "metadata": {},
   "outputs": [],
   "source": [
    "df=pd.get_dummies(df)"
   ]
  },
  {
   "cell_type": "code",
   "execution_count": 41,
   "metadata": {},
   "outputs": [
    {
     "data": {
      "text/plain": [
       "(731, 36)"
      ]
     },
     "execution_count": 41,
     "metadata": {},
     "output_type": "execute_result"
    }
   ],
   "source": [
    "df.shape"
   ]
  },
  {
   "cell_type": "code",
   "execution_count": 42,
   "metadata": {
    "scrolled": false
   },
   "outputs": [
    {
     "data": {
      "text/plain": [
       "temp            float64\n",
       "hum             float64\n",
       "windspeed       float64\n",
       "cnt               int64\n",
       "season_1          uint8\n",
       "season_2          uint8\n",
       "season_3          uint8\n",
       "season_4          uint8\n",
       "yr_0              uint8\n",
       "yr_1              uint8\n",
       "mnth_1            uint8\n",
       "mnth_2            uint8\n",
       "mnth_3            uint8\n",
       "mnth_4            uint8\n",
       "mnth_5            uint8\n",
       "mnth_6            uint8\n",
       "mnth_7            uint8\n",
       "mnth_8            uint8\n",
       "mnth_9            uint8\n",
       "mnth_10           uint8\n",
       "mnth_11           uint8\n",
       "mnth_12           uint8\n",
       "holiday_0         uint8\n",
       "holiday_1         uint8\n",
       "weekday_0         uint8\n",
       "weekday_1         uint8\n",
       "weekday_2         uint8\n",
       "weekday_3         uint8\n",
       "weekday_4         uint8\n",
       "weekday_5         uint8\n",
       "weekday_6         uint8\n",
       "workingday_0      uint8\n",
       "workingday_1      uint8\n",
       "weathersit_1      uint8\n",
       "weathersit_2      uint8\n",
       "weathersit_3      uint8\n",
       "dtype: object"
      ]
     },
     "execution_count": 42,
     "metadata": {},
     "output_type": "execute_result"
    }
   ],
   "source": [
    "df.dtypes"
   ]
  },
  {
   "cell_type": "code",
   "execution_count": 43,
   "metadata": {},
   "outputs": [],
   "source": [
    "df['temporary']=df['weathersit_3']\n",
    "df['weathersit_3']=df['cnt']\n",
    "df['cnt']=df['temporary']\n",
    "df = df.drop(columns=['temporary'])\n",
    "df = df.rename(columns = {'weathersit_3': 'cnt', 'cnt': 'weathersit_3'})"
   ]
  },
  {
   "cell_type": "code",
   "execution_count": 44,
   "metadata": {},
   "outputs": [
    {
     "data": {
      "text/html": [
       "<div>\n",
       "<style scoped>\n",
       "    .dataframe tbody tr th:only-of-type {\n",
       "        vertical-align: middle;\n",
       "    }\n",
       "\n",
       "    .dataframe tbody tr th {\n",
       "        vertical-align: top;\n",
       "    }\n",
       "\n",
       "    .dataframe thead th {\n",
       "        text-align: right;\n",
       "    }\n",
       "</style>\n",
       "<table border=\"1\" class=\"dataframe\">\n",
       "  <thead>\n",
       "    <tr style=\"text-align: right;\">\n",
       "      <th></th>\n",
       "      <th>temp</th>\n",
       "      <th>hum</th>\n",
       "      <th>windspeed</th>\n",
       "      <th>weathersit_3</th>\n",
       "      <th>season_1</th>\n",
       "      <th>season_2</th>\n",
       "      <th>season_3</th>\n",
       "      <th>season_4</th>\n",
       "      <th>yr_0</th>\n",
       "      <th>yr_1</th>\n",
       "      <th>...</th>\n",
       "      <th>weekday_2</th>\n",
       "      <th>weekday_3</th>\n",
       "      <th>weekday_4</th>\n",
       "      <th>weekday_5</th>\n",
       "      <th>weekday_6</th>\n",
       "      <th>workingday_0</th>\n",
       "      <th>workingday_1</th>\n",
       "      <th>weathersit_1</th>\n",
       "      <th>weathersit_2</th>\n",
       "      <th>cnt</th>\n",
       "    </tr>\n",
       "  </thead>\n",
       "  <tbody>\n",
       "    <tr>\n",
       "      <th>0</th>\n",
       "      <td>0.344167</td>\n",
       "      <td>0.805833</td>\n",
       "      <td>0.160446</td>\n",
       "      <td>0</td>\n",
       "      <td>1</td>\n",
       "      <td>0</td>\n",
       "      <td>0</td>\n",
       "      <td>0</td>\n",
       "      <td>1</td>\n",
       "      <td>0</td>\n",
       "      <td>...</td>\n",
       "      <td>0</td>\n",
       "      <td>0</td>\n",
       "      <td>0</td>\n",
       "      <td>0</td>\n",
       "      <td>1</td>\n",
       "      <td>1</td>\n",
       "      <td>0</td>\n",
       "      <td>0</td>\n",
       "      <td>1</td>\n",
       "      <td>985</td>\n",
       "    </tr>\n",
       "    <tr>\n",
       "      <th>1</th>\n",
       "      <td>0.363478</td>\n",
       "      <td>0.696087</td>\n",
       "      <td>0.248539</td>\n",
       "      <td>0</td>\n",
       "      <td>1</td>\n",
       "      <td>0</td>\n",
       "      <td>0</td>\n",
       "      <td>0</td>\n",
       "      <td>1</td>\n",
       "      <td>0</td>\n",
       "      <td>...</td>\n",
       "      <td>0</td>\n",
       "      <td>0</td>\n",
       "      <td>0</td>\n",
       "      <td>0</td>\n",
       "      <td>0</td>\n",
       "      <td>1</td>\n",
       "      <td>0</td>\n",
       "      <td>0</td>\n",
       "      <td>1</td>\n",
       "      <td>801</td>\n",
       "    </tr>\n",
       "    <tr>\n",
       "      <th>2</th>\n",
       "      <td>0.196364</td>\n",
       "      <td>0.437273</td>\n",
       "      <td>0.248309</td>\n",
       "      <td>0</td>\n",
       "      <td>1</td>\n",
       "      <td>0</td>\n",
       "      <td>0</td>\n",
       "      <td>0</td>\n",
       "      <td>1</td>\n",
       "      <td>0</td>\n",
       "      <td>...</td>\n",
       "      <td>0</td>\n",
       "      <td>0</td>\n",
       "      <td>0</td>\n",
       "      <td>0</td>\n",
       "      <td>0</td>\n",
       "      <td>0</td>\n",
       "      <td>1</td>\n",
       "      <td>1</td>\n",
       "      <td>0</td>\n",
       "      <td>1349</td>\n",
       "    </tr>\n",
       "    <tr>\n",
       "      <th>3</th>\n",
       "      <td>0.200000</td>\n",
       "      <td>0.590435</td>\n",
       "      <td>0.160296</td>\n",
       "      <td>0</td>\n",
       "      <td>1</td>\n",
       "      <td>0</td>\n",
       "      <td>0</td>\n",
       "      <td>0</td>\n",
       "      <td>1</td>\n",
       "      <td>0</td>\n",
       "      <td>...</td>\n",
       "      <td>1</td>\n",
       "      <td>0</td>\n",
       "      <td>0</td>\n",
       "      <td>0</td>\n",
       "      <td>0</td>\n",
       "      <td>0</td>\n",
       "      <td>1</td>\n",
       "      <td>1</td>\n",
       "      <td>0</td>\n",
       "      <td>1562</td>\n",
       "    </tr>\n",
       "    <tr>\n",
       "      <th>4</th>\n",
       "      <td>0.226957</td>\n",
       "      <td>0.436957</td>\n",
       "      <td>0.186900</td>\n",
       "      <td>0</td>\n",
       "      <td>1</td>\n",
       "      <td>0</td>\n",
       "      <td>0</td>\n",
       "      <td>0</td>\n",
       "      <td>1</td>\n",
       "      <td>0</td>\n",
       "      <td>...</td>\n",
       "      <td>0</td>\n",
       "      <td>1</td>\n",
       "      <td>0</td>\n",
       "      <td>0</td>\n",
       "      <td>0</td>\n",
       "      <td>0</td>\n",
       "      <td>1</td>\n",
       "      <td>1</td>\n",
       "      <td>0</td>\n",
       "      <td>1600</td>\n",
       "    </tr>\n",
       "  </tbody>\n",
       "</table>\n",
       "<p>5 rows × 36 columns</p>\n",
       "</div>"
      ],
      "text/plain": [
       "       temp       hum  windspeed  weathersit_3  season_1  season_2  season_3  \\\n",
       "0  0.344167  0.805833   0.160446             0         1         0         0   \n",
       "1  0.363478  0.696087   0.248539             0         1         0         0   \n",
       "2  0.196364  0.437273   0.248309             0         1         0         0   \n",
       "3  0.200000  0.590435   0.160296             0         1         0         0   \n",
       "4  0.226957  0.436957   0.186900             0         1         0         0   \n",
       "\n",
       "   season_4  yr_0  yr_1  ...  weekday_2  weekday_3  weekday_4  weekday_5  \\\n",
       "0         0     1     0  ...          0          0          0          0   \n",
       "1         0     1     0  ...          0          0          0          0   \n",
       "2         0     1     0  ...          0          0          0          0   \n",
       "3         0     1     0  ...          1          0          0          0   \n",
       "4         0     1     0  ...          0          1          0          0   \n",
       "\n",
       "   weekday_6  workingday_0  workingday_1  weathersit_1  weathersit_2   cnt  \n",
       "0          1             1             0             0             1   985  \n",
       "1          0             1             0             0             1   801  \n",
       "2          0             0             1             1             0  1349  \n",
       "3          0             0             1             1             0  1562  \n",
       "4          0             0             1             1             0  1600  \n",
       "\n",
       "[5 rows x 36 columns]"
      ]
     },
     "execution_count": 44,
     "metadata": {},
     "output_type": "execute_result"
    }
   ],
   "source": [
    "df.head()"
   ]
  },
  {
   "cell_type": "code",
   "execution_count": 45,
   "metadata": {},
   "outputs": [
    {
     "data": {
      "text/plain": [
       "(731, 36)"
      ]
     },
     "execution_count": 45,
     "metadata": {},
     "output_type": "execute_result"
    }
   ],
   "source": [
    "df.shape"
   ]
  },
  {
   "cell_type": "markdown",
   "metadata": {},
   "source": [
    "# Sampling Technique"
   ]
  },
  {
   "cell_type": "code",
   "execution_count": 46,
   "metadata": {},
   "outputs": [],
   "source": [
    "#Divide data into train and test\n",
    "train, test = train_test_split(df, test_size=0.2)"
   ]
  },
  {
   "cell_type": "code",
   "execution_count": 47,
   "metadata": {},
   "outputs": [
    {
     "data": {
      "text/plain": [
       "((584, 36), (147, 36))"
      ]
     },
     "execution_count": 47,
     "metadata": {},
     "output_type": "execute_result"
    }
   ],
   "source": [
    "train.shape, test.shape"
   ]
  },
  {
   "cell_type": "markdown",
   "metadata": {},
   "source": [
    "# Model Developement\n",
    "### Linear Regression"
   ]
  },
  {
   "cell_type": "code",
   "execution_count": 48,
   "metadata": {
    "scrolled": false
   },
   "outputs": [
    {
     "data": {
      "text/html": [
       "<div>\n",
       "<style scoped>\n",
       "    .dataframe tbody tr th:only-of-type {\n",
       "        vertical-align: middle;\n",
       "    }\n",
       "\n",
       "    .dataframe tbody tr th {\n",
       "        vertical-align: top;\n",
       "    }\n",
       "\n",
       "    .dataframe thead th {\n",
       "        text-align: right;\n",
       "    }\n",
       "</style>\n",
       "<table border=\"1\" class=\"dataframe\">\n",
       "  <thead>\n",
       "    <tr style=\"text-align: right;\">\n",
       "      <th></th>\n",
       "      <th>temp</th>\n",
       "      <th>hum</th>\n",
       "      <th>windspeed</th>\n",
       "      <th>weathersit_3</th>\n",
       "      <th>season_1</th>\n",
       "      <th>season_2</th>\n",
       "      <th>season_3</th>\n",
       "      <th>season_4</th>\n",
       "      <th>yr_0</th>\n",
       "      <th>yr_1</th>\n",
       "      <th>...</th>\n",
       "      <th>weekday_2</th>\n",
       "      <th>weekday_3</th>\n",
       "      <th>weekday_4</th>\n",
       "      <th>weekday_5</th>\n",
       "      <th>weekday_6</th>\n",
       "      <th>workingday_0</th>\n",
       "      <th>workingday_1</th>\n",
       "      <th>weathersit_1</th>\n",
       "      <th>weathersit_2</th>\n",
       "      <th>cnt</th>\n",
       "    </tr>\n",
       "  </thead>\n",
       "  <tbody>\n",
       "    <tr>\n",
       "      <th>0</th>\n",
       "      <td>0.344167</td>\n",
       "      <td>0.805833</td>\n",
       "      <td>0.160446</td>\n",
       "      <td>0</td>\n",
       "      <td>1</td>\n",
       "      <td>0</td>\n",
       "      <td>0</td>\n",
       "      <td>0</td>\n",
       "      <td>1</td>\n",
       "      <td>0</td>\n",
       "      <td>...</td>\n",
       "      <td>0</td>\n",
       "      <td>0</td>\n",
       "      <td>0</td>\n",
       "      <td>0</td>\n",
       "      <td>1</td>\n",
       "      <td>1</td>\n",
       "      <td>0</td>\n",
       "      <td>0</td>\n",
       "      <td>1</td>\n",
       "      <td>985</td>\n",
       "    </tr>\n",
       "    <tr>\n",
       "      <th>1</th>\n",
       "      <td>0.363478</td>\n",
       "      <td>0.696087</td>\n",
       "      <td>0.248539</td>\n",
       "      <td>0</td>\n",
       "      <td>1</td>\n",
       "      <td>0</td>\n",
       "      <td>0</td>\n",
       "      <td>0</td>\n",
       "      <td>1</td>\n",
       "      <td>0</td>\n",
       "      <td>...</td>\n",
       "      <td>0</td>\n",
       "      <td>0</td>\n",
       "      <td>0</td>\n",
       "      <td>0</td>\n",
       "      <td>0</td>\n",
       "      <td>1</td>\n",
       "      <td>0</td>\n",
       "      <td>0</td>\n",
       "      <td>1</td>\n",
       "      <td>801</td>\n",
       "    </tr>\n",
       "    <tr>\n",
       "      <th>2</th>\n",
       "      <td>0.196364</td>\n",
       "      <td>0.437273</td>\n",
       "      <td>0.248309</td>\n",
       "      <td>0</td>\n",
       "      <td>1</td>\n",
       "      <td>0</td>\n",
       "      <td>0</td>\n",
       "      <td>0</td>\n",
       "      <td>1</td>\n",
       "      <td>0</td>\n",
       "      <td>...</td>\n",
       "      <td>0</td>\n",
       "      <td>0</td>\n",
       "      <td>0</td>\n",
       "      <td>0</td>\n",
       "      <td>0</td>\n",
       "      <td>0</td>\n",
       "      <td>1</td>\n",
       "      <td>1</td>\n",
       "      <td>0</td>\n",
       "      <td>1349</td>\n",
       "    </tr>\n",
       "    <tr>\n",
       "      <th>3</th>\n",
       "      <td>0.200000</td>\n",
       "      <td>0.590435</td>\n",
       "      <td>0.160296</td>\n",
       "      <td>0</td>\n",
       "      <td>1</td>\n",
       "      <td>0</td>\n",
       "      <td>0</td>\n",
       "      <td>0</td>\n",
       "      <td>1</td>\n",
       "      <td>0</td>\n",
       "      <td>...</td>\n",
       "      <td>1</td>\n",
       "      <td>0</td>\n",
       "      <td>0</td>\n",
       "      <td>0</td>\n",
       "      <td>0</td>\n",
       "      <td>0</td>\n",
       "      <td>1</td>\n",
       "      <td>1</td>\n",
       "      <td>0</td>\n",
       "      <td>1562</td>\n",
       "    </tr>\n",
       "    <tr>\n",
       "      <th>4</th>\n",
       "      <td>0.226957</td>\n",
       "      <td>0.436957</td>\n",
       "      <td>0.186900</td>\n",
       "      <td>0</td>\n",
       "      <td>1</td>\n",
       "      <td>0</td>\n",
       "      <td>0</td>\n",
       "      <td>0</td>\n",
       "      <td>1</td>\n",
       "      <td>0</td>\n",
       "      <td>...</td>\n",
       "      <td>0</td>\n",
       "      <td>1</td>\n",
       "      <td>0</td>\n",
       "      <td>0</td>\n",
       "      <td>0</td>\n",
       "      <td>0</td>\n",
       "      <td>1</td>\n",
       "      <td>1</td>\n",
       "      <td>0</td>\n",
       "      <td>1600</td>\n",
       "    </tr>\n",
       "  </tbody>\n",
       "</table>\n",
       "<p>5 rows × 36 columns</p>\n",
       "</div>"
      ],
      "text/plain": [
       "       temp       hum  windspeed  weathersit_3  season_1  season_2  season_3  \\\n",
       "0  0.344167  0.805833   0.160446             0         1         0         0   \n",
       "1  0.363478  0.696087   0.248539             0         1         0         0   \n",
       "2  0.196364  0.437273   0.248309             0         1         0         0   \n",
       "3  0.200000  0.590435   0.160296             0         1         0         0   \n",
       "4  0.226957  0.436957   0.186900             0         1         0         0   \n",
       "\n",
       "   season_4  yr_0  yr_1  ...  weekday_2  weekday_3  weekday_4  weekday_5  \\\n",
       "0         0     1     0  ...          0          0          0          0   \n",
       "1         0     1     0  ...          0          0          0          0   \n",
       "2         0     1     0  ...          0          0          0          0   \n",
       "3         0     1     0  ...          1          0          0          0   \n",
       "4         0     1     0  ...          0          1          0          0   \n",
       "\n",
       "   weekday_6  workingday_0  workingday_1  weathersit_1  weathersit_2   cnt  \n",
       "0          1             1             0             0             1   985  \n",
       "1          0             1             0             0             1   801  \n",
       "2          0             0             1             1             0  1349  \n",
       "3          0             0             1             1             0  1562  \n",
       "4          0             0             1             1             0  1600  \n",
       "\n",
       "[5 rows x 36 columns]"
      ]
     },
     "execution_count": 48,
     "metadata": {},
     "output_type": "execute_result"
    }
   ],
   "source": [
    "df.head()"
   ]
  },
  {
   "cell_type": "code",
   "execution_count": 49,
   "metadata": {},
   "outputs": [],
   "source": [
    "#Import libraries for LR\n",
    "import statsmodels.api as sm"
   ]
  },
  {
   "cell_type": "code",
   "execution_count": 50,
   "metadata": {},
   "outputs": [],
   "source": [
    "# Train the model using the training sets\n",
    "model = sm.OLS(train.iloc[:,35], train.iloc[:,0:35]).fit()"
   ]
  },
  {
   "cell_type": "code",
   "execution_count": 51,
   "metadata": {},
   "outputs": [
    {
     "data": {
      "text/html": [
       "<table class=\"simpletable\">\n",
       "<caption>OLS Regression Results</caption>\n",
       "<tr>\n",
       "  <th>Dep. Variable:</th>           <td>cnt</td>       <th>  R-squared:         </th> <td>   0.850</td> \n",
       "</tr>\n",
       "<tr>\n",
       "  <th>Model:</th>                   <td>OLS</td>       <th>  Adj. R-squared:    </th> <td>   0.843</td> \n",
       "</tr>\n",
       "<tr>\n",
       "  <th>Method:</th>             <td>Least Squares</td>  <th>  F-statistic:       </th> <td>   116.6</td> \n",
       "</tr>\n",
       "<tr>\n",
       "  <th>Date:</th>             <td>Sun, 09 Feb 2020</td> <th>  Prob (F-statistic):</th> <td>4.37e-209</td>\n",
       "</tr>\n",
       "<tr>\n",
       "  <th>Time:</th>                 <td>00:38:04</td>     <th>  Log-Likelihood:    </th> <td> -4687.0</td> \n",
       "</tr>\n",
       "<tr>\n",
       "  <th>No. Observations:</th>      <td>   584</td>      <th>  AIC:               </th> <td>   9430.</td> \n",
       "</tr>\n",
       "<tr>\n",
       "  <th>Df Residuals:</th>          <td>   556</td>      <th>  BIC:               </th> <td>   9552.</td> \n",
       "</tr>\n",
       "<tr>\n",
       "  <th>Df Model:</th>              <td>    27</td>      <th>                     </th>     <td> </td>    \n",
       "</tr>\n",
       "<tr>\n",
       "  <th>Covariance Type:</th>      <td>nonrobust</td>    <th>                     </th>     <td> </td>    \n",
       "</tr>\n",
       "</table>\n",
       "<table class=\"simpletable\">\n",
       "<tr>\n",
       "        <td></td>          <th>coef</th>     <th>std err</th>      <th>t</th>      <th>P>|t|</th>  <th>[0.025</th>    <th>0.975]</th>  \n",
       "</tr>\n",
       "<tr>\n",
       "  <th>temp</th>         <td> 4121.5038</td> <td>  454.178</td> <td>    9.075</td> <td> 0.000</td> <td> 3229.388</td> <td> 5013.619</td>\n",
       "</tr>\n",
       "<tr>\n",
       "  <th>hum</th>          <td>-1131.5717</td> <td>  320.085</td> <td>   -3.535</td> <td> 0.000</td> <td>-1760.296</td> <td> -502.848</td>\n",
       "</tr>\n",
       "<tr>\n",
       "  <th>windspeed</th>    <td>-2356.9651</td> <td>  459.248</td> <td>   -5.132</td> <td> 0.000</td> <td>-3259.039</td> <td>-1454.891</td>\n",
       "</tr>\n",
       "<tr>\n",
       "  <th>weathersit_3</th> <td> -889.6434</td> <td>  160.133</td> <td>   -5.556</td> <td> 0.000</td> <td>-1204.184</td> <td> -575.103</td>\n",
       "</tr>\n",
       "<tr>\n",
       "  <th>season_1</th>     <td> -568.6835</td> <td>  126.415</td> <td>   -4.499</td> <td> 0.000</td> <td> -816.993</td> <td> -320.374</td>\n",
       "</tr>\n",
       "<tr>\n",
       "  <th>season_2</th>     <td>  280.5512</td> <td>  130.213</td> <td>    2.155</td> <td> 0.032</td> <td>   24.781</td> <td>  536.322</td>\n",
       "</tr>\n",
       "<tr>\n",
       "  <th>season_3</th>     <td>  368.4736</td> <td>  145.333</td> <td>    2.535</td> <td> 0.012</td> <td>   83.004</td> <td>  653.943</td>\n",
       "</tr>\n",
       "<tr>\n",
       "  <th>season_4</th>     <td> 1060.9993</td> <td>  139.760</td> <td>    7.592</td> <td> 0.000</td> <td>  786.476</td> <td> 1335.522</td>\n",
       "</tr>\n",
       "<tr>\n",
       "  <th>yr_0</th>         <td> -455.8447</td> <td>   76.928</td> <td>   -5.926</td> <td> 0.000</td> <td> -606.949</td> <td> -304.740</td>\n",
       "</tr>\n",
       "<tr>\n",
       "  <th>yr_1</th>         <td> 1597.1853</td> <td>   77.196</td> <td>   20.690</td> <td> 0.000</td> <td> 1445.554</td> <td> 1748.816</td>\n",
       "</tr>\n",
       "<tr>\n",
       "  <th>mnth_1</th>       <td> -249.8402</td> <td>  192.719</td> <td>   -1.296</td> <td> 0.195</td> <td> -628.386</td> <td>  128.705</td>\n",
       "</tr>\n",
       "<tr>\n",
       "  <th>mnth_2</th>       <td> -142.4825</td> <td>  179.331</td> <td>   -0.795</td> <td> 0.427</td> <td> -494.732</td> <td>  209.767</td>\n",
       "</tr>\n",
       "<tr>\n",
       "  <th>mnth_3</th>       <td>  214.3547</td> <td>  134.573</td> <td>    1.593</td> <td> 0.112</td> <td>  -49.979</td> <td>  478.689</td>\n",
       "</tr>\n",
       "<tr>\n",
       "  <th>mnth_4</th>       <td>  280.6514</td> <td>  166.150</td> <td>    1.689</td> <td> 0.092</td> <td>  -45.708</td> <td>  607.011</td>\n",
       "</tr>\n",
       "<tr>\n",
       "  <th>mnth_5</th>       <td>  546.8967</td> <td>  173.777</td> <td>    3.147</td> <td> 0.002</td> <td>  205.558</td> <td>  888.236</td>\n",
       "</tr>\n",
       "<tr>\n",
       "  <th>mnth_6</th>       <td>  356.9654</td> <td>  167.411</td> <td>    2.132</td> <td> 0.033</td> <td>   28.131</td> <td>  685.800</td>\n",
       "</tr>\n",
       "<tr>\n",
       "  <th>mnth_7</th>       <td> -288.4997</td> <td>  203.621</td> <td>   -1.417</td> <td> 0.157</td> <td> -688.460</td> <td>  111.461</td>\n",
       "</tr>\n",
       "<tr>\n",
       "  <th>mnth_8</th>       <td>  173.0963</td> <td>  191.607</td> <td>    0.903</td> <td> 0.367</td> <td> -203.266</td> <td>  549.459</td>\n",
       "</tr>\n",
       "<tr>\n",
       "  <th>mnth_9</th>       <td>  754.7439</td> <td>  155.566</td> <td>    4.852</td> <td> 0.000</td> <td>  449.175</td> <td> 1060.313</td>\n",
       "</tr>\n",
       "<tr>\n",
       "  <th>mnth_10</th>      <td>  278.9403</td> <td>  171.666</td> <td>    1.625</td> <td> 0.105</td> <td>  -58.252</td> <td>  616.133</td>\n",
       "</tr>\n",
       "<tr>\n",
       "  <th>mnth_11</th>      <td> -364.7918</td> <td>  179.495</td> <td>   -2.032</td> <td> 0.043</td> <td> -717.362</td> <td>  -12.221</td>\n",
       "</tr>\n",
       "<tr>\n",
       "  <th>mnth_12</th>      <td> -418.6939</td> <td>  155.506</td> <td>   -2.692</td> <td> 0.007</td> <td> -724.145</td> <td> -113.243</td>\n",
       "</tr>\n",
       "<tr>\n",
       "  <th>holiday_0</th>    <td>  899.1357</td> <td>   94.741</td> <td>    9.490</td> <td> 0.000</td> <td>  713.041</td> <td> 1085.230</td>\n",
       "</tr>\n",
       "<tr>\n",
       "  <th>holiday_1</th>    <td>  242.2049</td> <td>  114.744</td> <td>    2.111</td> <td> 0.035</td> <td>   16.820</td> <td>  467.590</td>\n",
       "</tr>\n",
       "<tr>\n",
       "  <th>weekday_0</th>    <td>  -69.6652</td> <td>   67.410</td> <td>   -1.033</td> <td> 0.302</td> <td> -202.075</td> <td>   62.744</td>\n",
       "</tr>\n",
       "<tr>\n",
       "  <th>weekday_1</th>    <td>   40.9333</td> <td>   78.606</td> <td>    0.521</td> <td> 0.603</td> <td> -113.468</td> <td>  195.334</td>\n",
       "</tr>\n",
       "<tr>\n",
       "  <th>weekday_2</th>    <td>  165.5068</td> <td>   84.723</td> <td>    1.954</td> <td> 0.051</td> <td>   -0.909</td> <td>  331.923</td>\n",
       "</tr>\n",
       "<tr>\n",
       "  <th>weekday_3</th>    <td>  176.8602</td> <td>   82.615</td> <td>    2.141</td> <td> 0.033</td> <td>   14.584</td> <td>  339.136</td>\n",
       "</tr>\n",
       "<tr>\n",
       "  <th>weekday_4</th>    <td>  214.0108</td> <td>   81.879</td> <td>    2.614</td> <td> 0.009</td> <td>   53.181</td> <td>  374.840</td>\n",
       "</tr>\n",
       "<tr>\n",
       "  <th>weekday_5</th>    <td>  257.9342</td> <td>   80.277</td> <td>    3.213</td> <td> 0.001</td> <td>  100.251</td> <td>  415.617</td>\n",
       "</tr>\n",
       "<tr>\n",
       "  <th>weekday_6</th>    <td>  355.7605</td> <td>   67.764</td> <td>    5.250</td> <td> 0.000</td> <td>  222.655</td> <td>  488.866</td>\n",
       "</tr>\n",
       "<tr>\n",
       "  <th>workingday_0</th> <td>  528.3002</td> <td>   89.243</td> <td>    5.920</td> <td> 0.000</td> <td>  353.006</td> <td>  703.594</td>\n",
       "</tr>\n",
       "<tr>\n",
       "  <th>workingday_1</th> <td>  613.0404</td> <td>   63.973</td> <td>    9.583</td> <td> 0.000</td> <td>  487.383</td> <td>  738.698</td>\n",
       "</tr>\n",
       "<tr>\n",
       "  <th>weathersit_1</th> <td> 1271.2425</td> <td>   74.834</td> <td>   16.987</td> <td> 0.000</td> <td> 1124.250</td> <td> 1418.235</td>\n",
       "</tr>\n",
       "<tr>\n",
       "  <th>weathersit_2</th> <td>  759.7416</td> <td>   80.998</td> <td>    9.380</td> <td> 0.000</td> <td>  600.642</td> <td>  918.841</td>\n",
       "</tr>\n",
       "</table>\n",
       "<table class=\"simpletable\">\n",
       "<tr>\n",
       "  <th>Omnibus:</th>       <td>76.730</td> <th>  Durbin-Watson:     </th> <td>   1.865</td>\n",
       "</tr>\n",
       "<tr>\n",
       "  <th>Prob(Omnibus):</th> <td> 0.000</td> <th>  Jarque-Bera (JB):  </th> <td> 201.044</td>\n",
       "</tr>\n",
       "<tr>\n",
       "  <th>Skew:</th>          <td>-0.669</td> <th>  Prob(JB):          </th> <td>2.21e-44</td>\n",
       "</tr>\n",
       "<tr>\n",
       "  <th>Kurtosis:</th>      <td> 5.544</td> <th>  Cond. No.          </th> <td>1.10e+16</td>\n",
       "</tr>\n",
       "</table><br/><br/>Warnings:<br/>[1] Standard Errors assume that the covariance matrix of the errors is correctly specified.<br/>[2] The smallest eigenvalue is 1.8e-29. This might indicate that there are<br/>strong multicollinearity problems or that the design matrix is singular."
      ],
      "text/plain": [
       "<class 'statsmodels.iolib.summary.Summary'>\n",
       "\"\"\"\n",
       "                            OLS Regression Results                            \n",
       "==============================================================================\n",
       "Dep. Variable:                    cnt   R-squared:                       0.850\n",
       "Model:                            OLS   Adj. R-squared:                  0.843\n",
       "Method:                 Least Squares   F-statistic:                     116.6\n",
       "Date:                Sun, 09 Feb 2020   Prob (F-statistic):          4.37e-209\n",
       "Time:                        00:38:04   Log-Likelihood:                -4687.0\n",
       "No. Observations:                 584   AIC:                             9430.\n",
       "Df Residuals:                     556   BIC:                             9552.\n",
       "Df Model:                          27                                         \n",
       "Covariance Type:            nonrobust                                         \n",
       "================================================================================\n",
       "                   coef    std err          t      P>|t|      [0.025      0.975]\n",
       "--------------------------------------------------------------------------------\n",
       "temp          4121.5038    454.178      9.075      0.000    3229.388    5013.619\n",
       "hum          -1131.5717    320.085     -3.535      0.000   -1760.296    -502.848\n",
       "windspeed    -2356.9651    459.248     -5.132      0.000   -3259.039   -1454.891\n",
       "weathersit_3  -889.6434    160.133     -5.556      0.000   -1204.184    -575.103\n",
       "season_1      -568.6835    126.415     -4.499      0.000    -816.993    -320.374\n",
       "season_2       280.5512    130.213      2.155      0.032      24.781     536.322\n",
       "season_3       368.4736    145.333      2.535      0.012      83.004     653.943\n",
       "season_4      1060.9993    139.760      7.592      0.000     786.476    1335.522\n",
       "yr_0          -455.8447     76.928     -5.926      0.000    -606.949    -304.740\n",
       "yr_1          1597.1853     77.196     20.690      0.000    1445.554    1748.816\n",
       "mnth_1        -249.8402    192.719     -1.296      0.195    -628.386     128.705\n",
       "mnth_2        -142.4825    179.331     -0.795      0.427    -494.732     209.767\n",
       "mnth_3         214.3547    134.573      1.593      0.112     -49.979     478.689\n",
       "mnth_4         280.6514    166.150      1.689      0.092     -45.708     607.011\n",
       "mnth_5         546.8967    173.777      3.147      0.002     205.558     888.236\n",
       "mnth_6         356.9654    167.411      2.132      0.033      28.131     685.800\n",
       "mnth_7        -288.4997    203.621     -1.417      0.157    -688.460     111.461\n",
       "mnth_8         173.0963    191.607      0.903      0.367    -203.266     549.459\n",
       "mnth_9         754.7439    155.566      4.852      0.000     449.175    1060.313\n",
       "mnth_10        278.9403    171.666      1.625      0.105     -58.252     616.133\n",
       "mnth_11       -364.7918    179.495     -2.032      0.043    -717.362     -12.221\n",
       "mnth_12       -418.6939    155.506     -2.692      0.007    -724.145    -113.243\n",
       "holiday_0      899.1357     94.741      9.490      0.000     713.041    1085.230\n",
       "holiday_1      242.2049    114.744      2.111      0.035      16.820     467.590\n",
       "weekday_0      -69.6652     67.410     -1.033      0.302    -202.075      62.744\n",
       "weekday_1       40.9333     78.606      0.521      0.603    -113.468     195.334\n",
       "weekday_2      165.5068     84.723      1.954      0.051      -0.909     331.923\n",
       "weekday_3      176.8602     82.615      2.141      0.033      14.584     339.136\n",
       "weekday_4      214.0108     81.879      2.614      0.009      53.181     374.840\n",
       "weekday_5      257.9342     80.277      3.213      0.001     100.251     415.617\n",
       "weekday_6      355.7605     67.764      5.250      0.000     222.655     488.866\n",
       "workingday_0   528.3002     89.243      5.920      0.000     353.006     703.594\n",
       "workingday_1   613.0404     63.973      9.583      0.000     487.383     738.698\n",
       "weathersit_1  1271.2425     74.834     16.987      0.000    1124.250    1418.235\n",
       "weathersit_2   759.7416     80.998      9.380      0.000     600.642     918.841\n",
       "==============================================================================\n",
       "Omnibus:                       76.730   Durbin-Watson:                   1.865\n",
       "Prob(Omnibus):                  0.000   Jarque-Bera (JB):              201.044\n",
       "Skew:                          -0.669   Prob(JB):                     2.21e-44\n",
       "Kurtosis:                       5.544   Cond. No.                     1.10e+16\n",
       "==============================================================================\n",
       "\n",
       "Warnings:\n",
       "[1] Standard Errors assume that the covariance matrix of the errors is correctly specified.\n",
       "[2] The smallest eigenvalue is 1.8e-29. This might indicate that there are\n",
       "strong multicollinearity problems or that the design matrix is singular.\n",
       "\"\"\""
      ]
     },
     "execution_count": 51,
     "metadata": {},
     "output_type": "execute_result"
    }
   ],
   "source": [
    "#Check the summary of model\n",
    "model.summary()"
   ]
  },
  {
   "cell_type": "code",
   "execution_count": 52,
   "metadata": {},
   "outputs": [
    {
     "data": {
      "text/plain": [
       "430    4266.295662\n",
       "540    6853.153289\n",
       "546    7470.017431\n",
       "23     1021.765965\n",
       "33     1450.879449\n",
       "537    7718.681933\n",
       "11     1001.382107\n",
       "512    6735.350028\n",
       "602    6025.978439\n",
       "578    6956.819326\n",
       "421    3717.958388\n",
       "353    3395.220211\n",
       "478    4214.122607\n",
       "301     998.416945\n",
       "601    6698.001867\n",
       "399    3348.263939\n",
       "592    6910.317966\n",
       "435    4298.437551\n",
       "609    7206.071626\n",
       "571    6724.460149\n",
       "412    4139.172469\n",
       "71     2168.346519\n",
       "587    6246.025339\n",
       "396    4759.603009\n",
       "142    3820.141738\n",
       "176    4897.545289\n",
       "696    4482.828597\n",
       "302    3706.458092\n",
       "96     3841.137691\n",
       "406    1192.976661\n",
       "          ...     \n",
       "460    6007.852513\n",
       "306    3803.808087\n",
       "187    4600.521651\n",
       "290    4462.762481\n",
       "127    4287.448376\n",
       "164    4412.182568\n",
       "111    2679.805327\n",
       "678    5707.660554\n",
       "2      1279.237145\n",
       "356    1713.894841\n",
       "670    5258.046488\n",
       "593    7178.551286\n",
       "232    4186.824597\n",
       "347    3049.058858\n",
       "441    4742.801738\n",
       "315    3639.318106\n",
       "584    6537.026668\n",
       "210    5068.586243\n",
       "293    4515.856818\n",
       "446    6155.813589\n",
       "348    3064.353513\n",
       "626    5896.780385\n",
       "365    3696.086880\n",
       "393    3654.008436\n",
       "16      -44.003100\n",
       "550    5986.187946\n",
       "519    6184.787123\n",
       "721    3300.472253\n",
       "413    4314.315610\n",
       "32      852.953637\n",
       "Length: 147, dtype: float64"
      ]
     },
     "execution_count": 52,
     "metadata": {},
     "output_type": "execute_result"
    }
   ],
   "source": [
    "lr_pred=model.predict(test.iloc[:,0:35])\n",
    "lr_pred"
   ]
  },
  {
   "cell_type": "code",
   "execution_count": 53,
   "metadata": {},
   "outputs": [],
   "source": [
    "#Calculate MAPE\n",
    "def MAPE(y_true, y_pred): \n",
    "    mape = np.mean(np.abs((y_true - y_pred) / y_true))*100\n",
    "    return mape"
   ]
  },
  {
   "cell_type": "code",
   "execution_count": 54,
   "metadata": {},
   "outputs": [
    {
     "data": {
      "text/plain": [
       "20.659443612467683"
      ]
     },
     "execution_count": 54,
     "metadata": {},
     "output_type": "execute_result"
    }
   ],
   "source": [
    "#Calculate MAPE\n",
    "MAPE(test.iloc[:,35], lr_pred)"
   ]
  },
  {
   "cell_type": "markdown",
   "metadata": {},
   "source": [
    "# Decision Tree"
   ]
  },
  {
   "cell_type": "code",
   "execution_count": 55,
   "metadata": {},
   "outputs": [],
   "source": [
    "from sklearn.tree import DecisionTreeRegressor"
   ]
  },
  {
   "cell_type": "code",
   "execution_count": 56,
   "metadata": {},
   "outputs": [],
   "source": [
    "#Decision tree for regression\n",
    "fit_DT = DecisionTreeRegressor(max_depth=2).fit(train.iloc[:,0:35], train.iloc[:,35])"
   ]
  },
  {
   "cell_type": "code",
   "execution_count": 57,
   "metadata": {},
   "outputs": [],
   "source": [
    "#Apply model on test data\n",
    "predictions_DT = fit_DT.predict(test.iloc[:,0:35])"
   ]
  },
  {
   "cell_type": "code",
   "execution_count": 58,
   "metadata": {},
   "outputs": [
    {
     "data": {
      "text/plain": [
       "33.200725365235165"
      ]
     },
     "execution_count": 58,
     "metadata": {},
     "output_type": "execute_result"
    }
   ],
   "source": [
    "MAPE(test.iloc[:,35], predictions_DT)"
   ]
  },
  {
   "cell_type": "markdown",
   "metadata": {},
   "source": [
    "# Random Forest "
   ]
  },
  {
   "cell_type": "code",
   "execution_count": 59,
   "metadata": {},
   "outputs": [],
   "source": [
    "#Import library for RandomForestRegressor\n",
    "from sklearn.ensemble import RandomForestRegressor"
   ]
  },
  {
   "cell_type": "code",
   "execution_count": 63,
   "metadata": {},
   "outputs": [],
   "source": [
    "#Train the model\n",
    "rf_model = RandomForestRegressor(n_estimators=500,random_state=123).fit(train.iloc[:,0:35], train.iloc[:,35])"
   ]
  },
  {
   "cell_type": "code",
   "execution_count": 64,
   "metadata": {},
   "outputs": [],
   "source": [
    "#Predict the results of test data\n",
    "rf_predictions = rf_model.predict(test.iloc[:,0:35])"
   ]
  },
  {
   "cell_type": "code",
   "execution_count": 66,
   "metadata": {},
   "outputs": [
    {
     "data": {
      "text/plain": [
       "18.942989113131762"
      ]
     },
     "execution_count": 66,
     "metadata": {},
     "output_type": "execute_result"
    }
   ],
   "source": [
    "#Calculate MAPE\n",
    "MAPE(test.iloc[:,35],rf_predictions)"
   ]
  }
 ],
 "metadata": {
  "kernelspec": {
   "display_name": "Python 3",
   "language": "python",
   "name": "python3"
  },
  "language_info": {
   "codemirror_mode": {
    "name": "ipython",
    "version": 3
   },
   "file_extension": ".py",
   "mimetype": "text/x-python",
   "name": "python",
   "nbconvert_exporter": "python",
   "pygments_lexer": "ipython3",
   "version": "3.7.3"
  }
 },
 "nbformat": 4,
 "nbformat_minor": 2
}
